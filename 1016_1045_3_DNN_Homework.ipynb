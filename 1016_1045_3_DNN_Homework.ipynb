{
  "cells": [
    {
      "cell_type": "markdown",
      "metadata": {
        "id": "view-in-github",
        "colab_type": "text"
      },
      "source": [
        "<a href=\"https://colab.research.google.com/github/fernnicx/Araikordai/blob/main/1016_1045_3_DNN_Homework.ipynb\" target=\"_parent\"><img src=\"https://colab.research.google.com/assets/colab-badge.svg\" alt=\"Open In Colab\"/></a>"
      ]
    },
    {
      "cell_type": "markdown",
      "metadata": {
        "id": "qKRGnw6KE7kP"
      },
      "source": [
        "# Lab5 - Introduction to Deep Neural Network\n",
        "- ชาลิสา เจริญสวัสดิ์, 64070501016\n",
        "- วิชญาพร ทรัพย์เกิด, 64070501045\n",
        "\n",
        "Name your file to 1016_1045.ipynb\n",
        "\n",
        "## Lab Instruction\n",
        "\n",
        "In this lab, you will learn how to build a simple fully-connected neural network with Keras and Tensorflow as the backend. We will experiment with MNIST data, which is a Keras built-in dataset.\n",
        "\n",
        "There are three questions to answer in this lab.\n",
        "\n",
        "See http://yann.lecun.com/exdb/mnist/ for data description.\n",
        "\n",
        "First, import all of the libraries that will be used in this lab."
      ]
    },
    {
      "cell_type": "code",
      "execution_count": 1,
      "metadata": {
        "id": "I6MxiZ1sE7kT"
      },
      "outputs": [],
      "source": [
        "import keras\n",
        "import numpy as np"
      ]
    },
    {
      "cell_type": "code",
      "execution_count": 2,
      "metadata": {
        "id": "A3JCixqME7kX"
      },
      "outputs": [],
      "source": [
        "from keras.datasets import mnist\n",
        "\n",
        "### Load Data ###\n",
        "(X_train, y_train), (X_test, y_test) = mnist.load_data()\n",
        "#################"
      ]
    },
    {
      "cell_type": "markdown",
      "metadata": {
        "id": "Il7fXMD9E7kY"
      },
      "source": [
        "### 1. Learn About the Data\n",
        "\n",
        "Understand your data, such as its shape, format, datatype, structure, distribution, data classes, and so on."
      ]
    },
    {
      "cell_type": "markdown",
      "source": [
        "<font color='#9900cc'> - Shape </font>\n"
      ],
      "metadata": {
        "id": "sUnJNBagx_hJ"
      }
    },
    {
      "cell_type": "code",
      "execution_count": 3,
      "metadata": {
        "id": "BKp0VLZcE7kZ",
        "colab": {
          "base_uri": "https://localhost:8080/"
        },
        "outputId": "94266ad8-47dd-4d07-b4f0-2d81031b8fa9"
      },
      "outputs": [
        {
          "output_type": "stream",
          "name": "stdout",
          "text": [
            "Training Data Shape: (60000, 28, 28)\n",
            "Training Labels Shape: (60000,)\n",
            "Testing Data Shape: (10000, 28, 28)\n",
            "Testing Labels Shape: (10000,)\n"
          ]
        }
      ],
      "source": [
        "print(\"Training Data Shape:\", X_train.shape)  # (Number of Samples, Image Height, Image Width)\n",
        "print(\"Training Labels Shape:\", y_train.shape)  # (Number of Samples,)\n",
        "print(\"Testing Data Shape:\", X_test.shape)  # (Number of Samples, Image Height, Image Width)\n",
        "print(\"Testing Labels Shape:\", y_test.shape)  # (Number of Samples,)\n"
      ]
    },
    {
      "cell_type": "markdown",
      "source": [
        "<font color='#9900cc'> - Format and Datatype </font>"
      ],
      "metadata": {
        "id": "BsK1xJdlyfeJ"
      }
    },
    {
      "cell_type": "code",
      "source": [
        "print(\"Training Data Format:\", X_train[0].dtype)  # Data format of the images\n",
        "print(\"Training Label Datatype:\", y_train.dtype)  # Datatype of the labels\n",
        "print(\"Testing Data Format:\", X_test[0].dtype)  # Data format of the images\n",
        "print(\"Testing Label Datatype:\", y_test.dtype)  # Datatype of the labels\n"
      ],
      "metadata": {
        "colab": {
          "base_uri": "https://localhost:8080/"
        },
        "id": "95LBBqvB4dhr",
        "outputId": "a61e08dc-11e8-4aea-b6fd-0781b1e6b8c9"
      },
      "execution_count": 4,
      "outputs": [
        {
          "output_type": "stream",
          "name": "stdout",
          "text": [
            "Training Data Format: uint8\n",
            "Training Label Datatype: uint8\n",
            "Testing Data Format: uint8\n",
            "Testing Label Datatype: uint8\n"
          ]
        }
      ]
    },
    {
      "cell_type": "markdown",
      "source": [
        "<font color='#9900cc'> - Structure of Image </font>"
      ],
      "metadata": {
        "id": "5qJcbYtWykED"
      }
    },
    {
      "cell_type": "code",
      "source": [
        "print(\"Image Structure:\")\n",
        "print(X_train[0])\n",
        "print(\"Image Structure Shape:\")\n",
        "print(X_train[0].shape)\n"
      ],
      "metadata": {
        "colab": {
          "base_uri": "https://localhost:8080/"
        },
        "id": "OWwgw9eK5IX_",
        "outputId": "6461a2de-7b7b-4c02-c035-62fc3c158ec1"
      },
      "execution_count": 5,
      "outputs": [
        {
          "output_type": "stream",
          "name": "stdout",
          "text": [
            "Image Structure:\n",
            "[[  0   0   0   0   0   0   0   0   0   0   0   0   0   0   0   0   0   0\n",
            "    0   0   0   0   0   0   0   0   0   0]\n",
            " [  0   0   0   0   0   0   0   0   0   0   0   0   0   0   0   0   0   0\n",
            "    0   0   0   0   0   0   0   0   0   0]\n",
            " [  0   0   0   0   0   0   0   0   0   0   0   0   0   0   0   0   0   0\n",
            "    0   0   0   0   0   0   0   0   0   0]\n",
            " [  0   0   0   0   0   0   0   0   0   0   0   0   0   0   0   0   0   0\n",
            "    0   0   0   0   0   0   0   0   0   0]\n",
            " [  0   0   0   0   0   0   0   0   0   0   0   0   0   0   0   0   0   0\n",
            "    0   0   0   0   0   0   0   0   0   0]\n",
            " [  0   0   0   0   0   0   0   0   0   0   0   0   3  18  18  18 126 136\n",
            "  175  26 166 255 247 127   0   0   0   0]\n",
            " [  0   0   0   0   0   0   0   0  30  36  94 154 170 253 253 253 253 253\n",
            "  225 172 253 242 195  64   0   0   0   0]\n",
            " [  0   0   0   0   0   0   0  49 238 253 253 253 253 253 253 253 253 251\n",
            "   93  82  82  56  39   0   0   0   0   0]\n",
            " [  0   0   0   0   0   0   0  18 219 253 253 253 253 253 198 182 247 241\n",
            "    0   0   0   0   0   0   0   0   0   0]\n",
            " [  0   0   0   0   0   0   0   0  80 156 107 253 253 205  11   0  43 154\n",
            "    0   0   0   0   0   0   0   0   0   0]\n",
            " [  0   0   0   0   0   0   0   0   0  14   1 154 253  90   0   0   0   0\n",
            "    0   0   0   0   0   0   0   0   0   0]\n",
            " [  0   0   0   0   0   0   0   0   0   0   0 139 253 190   2   0   0   0\n",
            "    0   0   0   0   0   0   0   0   0   0]\n",
            " [  0   0   0   0   0   0   0   0   0   0   0  11 190 253  70   0   0   0\n",
            "    0   0   0   0   0   0   0   0   0   0]\n",
            " [  0   0   0   0   0   0   0   0   0   0   0   0  35 241 225 160 108   1\n",
            "    0   0   0   0   0   0   0   0   0   0]\n",
            " [  0   0   0   0   0   0   0   0   0   0   0   0   0  81 240 253 253 119\n",
            "   25   0   0   0   0   0   0   0   0   0]\n",
            " [  0   0   0   0   0   0   0   0   0   0   0   0   0   0  45 186 253 253\n",
            "  150  27   0   0   0   0   0   0   0   0]\n",
            " [  0   0   0   0   0   0   0   0   0   0   0   0   0   0   0  16  93 252\n",
            "  253 187   0   0   0   0   0   0   0   0]\n",
            " [  0   0   0   0   0   0   0   0   0   0   0   0   0   0   0   0   0 249\n",
            "  253 249  64   0   0   0   0   0   0   0]\n",
            " [  0   0   0   0   0   0   0   0   0   0   0   0   0   0  46 130 183 253\n",
            "  253 207   2   0   0   0   0   0   0   0]\n",
            " [  0   0   0   0   0   0   0   0   0   0   0   0  39 148 229 253 253 253\n",
            "  250 182   0   0   0   0   0   0   0   0]\n",
            " [  0   0   0   0   0   0   0   0   0   0  24 114 221 253 253 253 253 201\n",
            "   78   0   0   0   0   0   0   0   0   0]\n",
            " [  0   0   0   0   0   0   0   0  23  66 213 253 253 253 253 198  81   2\n",
            "    0   0   0   0   0   0   0   0   0   0]\n",
            " [  0   0   0   0   0   0  18 171 219 253 253 253 253 195  80   9   0   0\n",
            "    0   0   0   0   0   0   0   0   0   0]\n",
            " [  0   0   0   0  55 172 226 253 253 253 253 244 133  11   0   0   0   0\n",
            "    0   0   0   0   0   0   0   0   0   0]\n",
            " [  0   0   0   0 136 253 253 253 212 135 132  16   0   0   0   0   0   0\n",
            "    0   0   0   0   0   0   0   0   0   0]\n",
            " [  0   0   0   0   0   0   0   0   0   0   0   0   0   0   0   0   0   0\n",
            "    0   0   0   0   0   0   0   0   0   0]\n",
            " [  0   0   0   0   0   0   0   0   0   0   0   0   0   0   0   0   0   0\n",
            "    0   0   0   0   0   0   0   0   0   0]\n",
            " [  0   0   0   0   0   0   0   0   0   0   0   0   0   0   0   0   0   0\n",
            "    0   0   0   0   0   0   0   0   0   0]]\n",
            "Image Structure Shape:\n",
            "(28, 28)\n"
          ]
        }
      ]
    },
    {
      "cell_type": "markdown",
      "source": [
        "<font color='#9900cc'> - Distribution of Labels in Training Data and  Distribution of Labels in Testing Data</font>"
      ],
      "metadata": {
        "id": "0e_UTWT0ysw9"
      }
    },
    {
      "cell_type": "code",
      "source": [
        "# Distribution of Labels in Training Data\n",
        "print(\"\\nLabel Distribution in Training Data:\")\n",
        "label_counts = {label: list(y_train).count(label) for label in set(y_train)}\n",
        "for label, count in label_counts.items():\n",
        "    print(f\"Label {label}: {count} samples\")\n",
        "\n",
        "# Distribution of Labels in Testing Data\n",
        "print(\"\\nLabel Distribution in Testing Data:\")\n",
        "label_counts = {label: list(y_test).count(label) for label in set(y_test)}\n",
        "for label, count in label_counts.items():\n",
        "    print(f\"Label {label}: {count} samples\")"
      ],
      "metadata": {
        "colab": {
          "base_uri": "https://localhost:8080/"
        },
        "id": "qhDo-vgI7r6E",
        "outputId": "e15d4be7-9fcc-49ce-81dc-535979deac20"
      },
      "execution_count": 6,
      "outputs": [
        {
          "output_type": "stream",
          "name": "stdout",
          "text": [
            "\n",
            "Label Distribution in Training Data:\n",
            "Label 0: 5923 samples\n",
            "Label 1: 6742 samples\n",
            "Label 2: 5958 samples\n",
            "Label 3: 6131 samples\n",
            "Label 4: 5842 samples\n",
            "Label 5: 5421 samples\n",
            "Label 6: 5918 samples\n",
            "Label 7: 6265 samples\n",
            "Label 8: 5851 samples\n",
            "Label 9: 5949 samples\n",
            "\n",
            "Label Distribution in Testing Data:\n",
            "Label 0: 980 samples\n",
            "Label 1: 1135 samples\n",
            "Label 2: 1032 samples\n",
            "Label 3: 1010 samples\n",
            "Label 4: 982 samples\n",
            "Label 5: 892 samples\n",
            "Label 6: 958 samples\n",
            "Label 7: 1028 samples\n",
            "Label 8: 974 samples\n",
            "Label 9: 1009 samples\n"
          ]
        }
      ]
    },
    {
      "cell_type": "markdown",
      "source": [
        "<font color='#9900cc'> - Data Classes</font>"
      ],
      "metadata": {
        "id": "egqSMVVgy8EU"
      }
    },
    {
      "cell_type": "code",
      "source": [
        "# Data Classes\n",
        "unique_classes = set(y_train)\n",
        "num_classes = len(unique_classes)\n",
        "print(\"Number of Classes:\", num_classes)\n",
        "print(\"Class Labels:\", unique_classes)"
      ],
      "metadata": {
        "colab": {
          "base_uri": "https://localhost:8080/"
        },
        "id": "-KpE76s38Kq_",
        "outputId": "f69dfec9-4ce8-4115-b9a8-74b5d89e2833"
      },
      "execution_count": 7,
      "outputs": [
        {
          "output_type": "stream",
          "name": "stdout",
          "text": [
            "Number of Classes: 10\n",
            "Class Labels: {0, 1, 2, 3, 4, 5, 6, 7, 8, 9}\n"
          ]
        }
      ]
    },
    {
      "cell_type": "code",
      "source": [
        "import matplotlib.pyplot as plt\n",
        "\n",
        "num_images_to_visualize = 20\n",
        "images_per_row = 5\n",
        "num_rows = num_images_to_visualize // images_per_row\n",
        "\n",
        "plt.figure(figsize=(10, 3 * num_rows))\n",
        "\n",
        "# Visualize the selected images\n",
        "for image_index in range(num_images_to_visualize):\n",
        "    plt.subplot(num_rows, images_per_row, image_index + 1)\n",
        "    plt.imshow(X_train[image_index], cmap='inferno')  # cmap='gray' for grayscale images\n",
        "    plt.title(f\"Label: {y_train[image_index]}\")\n",
        "    plt.axis('off')\n",
        "\n",
        "plt.show()\n"
      ],
      "metadata": {
        "colab": {
          "base_uri": "https://localhost:8080/",
          "height": 916
        },
        "id": "ZKiuvT5S8eEM",
        "outputId": "d5e22158-beb3-4c35-f472-338be1e23c8c"
      },
      "execution_count": 8,
      "outputs": [
        {
          "output_type": "display_data",
          "data": {
            "text/plain": [
              "<Figure size 1000x1200 with 20 Axes>"
            ],
            "image/png": "[encoded data removed]"
          },
          "metadata": {}
        }
      ]
    },
    {
      "cell_type": "markdown",
      "metadata": {
        "id": "OQmeeqBnE7kZ"
      },
      "source": [
        "### 2. Build Neural Network Model\n",
        "\n",
        "Build a two-layer neural network (except for the input and output layers) using `Sequential()`\n",
        "( See https://keras.io/models/sequential )\n",
        "> INPUT -> LINEAR -> RELU -> LINEAR -> SOFTMAX\n",
        "\n",
        "with the hidden layer of size 512.\n",
        "\n",
        "See Keras Model: https://keras.io/models/about-keras-models/"
      ]
    },
    {
      "cell_type": "code",
      "execution_count": 9,
      "metadata": {
        "id": "MpfJ0Hs5E7kb"
      },
      "outputs": [],
      "source": [
        "from keras import models\n",
        "from keras import layers\n",
        "\n",
        "nn = models.Sequential() # Create Model\n",
        "nn.add(layers.Dense(784,activation = 'linear',input_shape=(None,784))) # Input Layer\n",
        "nn.add(layers.Dense(512,activation = 'relu')) # Hidden Layer #1\n",
        "nn.add(layers.Dense(512,activation = 'linear')) # Hidden Layer #2\n",
        "nn.add(layers.Dense(10,activation = 'softmax')) # Output Layer\n"
      ]
    },
    {
      "cell_type": "markdown",
      "metadata": {
        "id": "QkzGtDILE7kc"
      },
      "source": [
        "Compile your model with the following argument.\n",
        "\n",
        "```\n",
        "optimizer='sgd',\n",
        "loss='categorical_crossentropy',\n",
        "metrics=['accuracy']\n",
        "```"
      ]
    },
    {
      "cell_type": "code",
      "execution_count": 10,
      "metadata": {
        "id": "UEaXkW6DE7kd"
      },
      "outputs": [],
      "source": [
        "nn.compile(optimizer='sgd', loss='categorical_crossentropy', metrics=['accuracy'])"
      ]
    },
    {
      "cell_type": "markdown",
      "metadata": {
        "id": "bVNLLLHFE7kf"
      },
      "source": [
        "Let's see how our model looks using `.summary()`"
      ]
    },
    {
      "cell_type": "code",
      "execution_count": 11,
      "metadata": {
        "id": "48OnGBKZE7kg",
        "colab": {
          "base_uri": "https://localhost:8080/"
        },
        "outputId": "26d08956-a675-4ec4-e9cb-a46243b527b5"
      },
      "outputs": [
        {
          "output_type": "stream",
          "name": "stdout",
          "text": [
            "Model: \"sequential\"\n",
            "_________________________________________________________________\n",
            " Layer (type)                Output Shape              Param #   \n",
            "=================================================================\n",
            " dense (Dense)               (None, None, 784)         615440    \n",
            "                                                                 \n",
            " dense_1 (Dense)             (None, None, 512)         401920    \n",
            "                                                                 \n",
            " dense_2 (Dense)             (None, None, 512)         262656    \n",
            "                                                                 \n",
            " dense_3 (Dense)             (None, None, 10)          5130      \n",
            "                                                                 \n",
            "=================================================================\n",
            "Total params: 1285146 (4.90 MB)\n",
            "Trainable params: 1285146 (4.90 MB)\n",
            "Non-trainable params: 0 (0.00 Byte)\n",
            "_________________________________________________________________\n"
          ]
        }
      ],
      "source": [
        "nn.summary()"
      ]
    },
    {
      "cell_type": "markdown",
      "metadata": {
        "id": "TnkRRdWUE7kh"
      },
      "source": [
        "### 3. Preprocessing\n",
        "\n",
        "- Reshape (flatten) the features data and normalize the value to be between 0 and 1\n",
        "- One-hot the target data"
      ]
    },
    {
      "cell_type": "code",
      "execution_count": 12,
      "metadata": {
        "id": "LRa5k3mZE7ki"
      },
      "outputs": [],
      "source": [
        "from keras.utils import to_categorical\n",
        "from keras.utils import normalize\n",
        "\n",
        "# Reshape (flatten)\n",
        "X_train_reshaped = X_train.reshape((X_train.shape[0], -1))\n",
        "X_test_reshaped = X_test.reshape((X_test.shape[0], -1))\n",
        "\n",
        "# Normalize the value to be between 0 and 1\n",
        "X_train = X_train_reshaped / 255.0\n",
        "X_test = X_test_reshaped / 255.0\n",
        "\n",
        "# One-hot encode target data\n",
        "y_train = to_categorical(y_train)\n",
        "y_test = to_categorical(y_test)"
      ]
    },
    {
      "cell_type": "code",
      "source": [
        "print(\"Training Data Shape:\", X_train.shape)  # (Number of Samples, Image Height, Image Width)\n",
        "print(\"Testing Data Shape:\", X_test.shape)  # (Number of Samples, Image Height, Image Width)"
      ],
      "metadata": {
        "colab": {
          "base_uri": "https://localhost:8080/"
        },
        "id": "jaFXAvq_CkIQ",
        "outputId": "db77e82f-1f97-4d1d-bb4b-51c9d5d27efe"
      },
      "execution_count": 13,
      "outputs": [
        {
          "output_type": "stream",
          "name": "stdout",
          "text": [
            "Training Data Shape: (60000, 784)\n",
            "Testing Data Shape: (10000, 784)\n"
          ]
        }
      ]
    },
    {
      "cell_type": "code",
      "source": [
        "# Minimum and Maximum value in normalized training data\n",
        "print(f\"Minimum value in normalized training data:\", X_train.min())\n",
        "print(f\"Maximum value in normalized training data:\", X_train.max())\n",
        "\n",
        "# Minimum and Maximum value in normalized testing data\n",
        "print(f\"Minimum value in normalized testing data:\", X_test.min())\n",
        "print(f\"Maximum value in normalized testing data:\", X_test.max())\n"
      ],
      "metadata": {
        "colab": {
          "base_uri": "https://localhost:8080/"
        },
        "id": "sNO_5Nx2CzR-",
        "outputId": "a0625b74-a82b-4061-d0da-61fd1582a9a0"
      },
      "execution_count": 14,
      "outputs": [
        {
          "output_type": "stream",
          "name": "stdout",
          "text": [
            "Minimum value in normalized training data: 0.0\n",
            "Maximum value in normalized training data: 1.0\n",
            "Minimum value in normalized testing data: 0.0\n",
            "Maximum value in normalized testing data: 1.0\n"
          ]
        }
      ]
    },
    {
      "cell_type": "markdown",
      "metadata": {
        "id": "d7t-fWCWE7kj"
      },
      "source": [
        "### 4. Model Training\n",
        "\n",
        "Use `.fit()` to train your neural network model and return a record of accuracy and loss values for each epoch.\n",
        "\n",
        "We will train the model for 10 epochs (If you are confident in your computer's performance, you can train the model with more epochs.)\n",
        "\n",
        "We will train using the mini-batch method, with each batch containing 128 data points.\n",
        "\n",
        "To avoid overfitting with the test set, we will split the current training data into 90% for training and 10% for validating the model.\n",
        "\n",
        "This will take approximately one minute."
      ]
    },
    {
      "cell_type": "code",
      "execution_count": 15,
      "metadata": {
        "id": "FTuvC2JgE7ko",
        "colab": {
          "base_uri": "https://localhost:8080/"
        },
        "outputId": "f2f1e67c-ac12-4545-8bc1-daebd0957aae"
      },
      "outputs": [
        {
          "output_type": "stream",
          "name": "stdout",
          "text": [
            "Epoch 1/30\n",
            "422/422 [==============================] - 26s 58ms/step - loss: 0.7578 - accuracy: 0.8144 - val_loss: 0.3463 - val_accuracy: 0.9103\n",
            "Epoch 2/30\n",
            "422/422 [==============================] - 20s 47ms/step - loss: 0.3662 - accuracy: 0.8978 - val_loss: 0.2721 - val_accuracy: 0.9230\n",
            "Epoch 3/30\n",
            "422/422 [==============================] - 13s 31ms/step - loss: 0.3112 - accuracy: 0.9119 - val_loss: 0.2415 - val_accuracy: 0.9330\n",
            "Epoch 4/30\n",
            "422/422 [==============================] - 13s 31ms/step - loss: 0.2799 - accuracy: 0.9211 - val_loss: 0.2201 - val_accuracy: 0.9385\n",
            "Epoch 5/30\n",
            "422/422 [==============================] - 11s 27ms/step - loss: 0.2563 - accuracy: 0.9270 - val_loss: 0.2067 - val_accuracy: 0.9413\n",
            "Epoch 6/30\n",
            "422/422 [==============================] - 19s 46ms/step - loss: 0.2368 - accuracy: 0.9329 - val_loss: 0.1885 - val_accuracy: 0.9490\n",
            "Epoch 7/30\n",
            "422/422 [==============================] - 21s 50ms/step - loss: 0.2199 - accuracy: 0.9379 - val_loss: 0.1782 - val_accuracy: 0.9528\n",
            "Epoch 8/30\n",
            "422/422 [==============================] - 13s 31ms/step - loss: 0.2048 - accuracy: 0.9419 - val_loss: 0.1664 - val_accuracy: 0.9572\n",
            "Epoch 9/30\n",
            "422/422 [==============================] - 15s 35ms/step - loss: 0.1916 - accuracy: 0.9456 - val_loss: 0.1591 - val_accuracy: 0.9575\n",
            "Epoch 10/30\n",
            "422/422 [==============================] - 13s 31ms/step - loss: 0.1797 - accuracy: 0.9486 - val_loss: 0.1485 - val_accuracy: 0.9612\n",
            "Epoch 11/30\n",
            "422/422 [==============================] - 12s 29ms/step - loss: 0.1693 - accuracy: 0.9518 - val_loss: 0.1404 - val_accuracy: 0.9623\n",
            "Epoch 12/30\n",
            "422/422 [==============================] - 12s 27ms/step - loss: 0.1598 - accuracy: 0.9546 - val_loss: 0.1352 - val_accuracy: 0.9647\n",
            "Epoch 13/30\n",
            "422/422 [==============================] - 13s 30ms/step - loss: 0.1512 - accuracy: 0.9569 - val_loss: 0.1312 - val_accuracy: 0.9643\n",
            "Epoch 14/30\n",
            "422/422 [==============================] - 14s 33ms/step - loss: 0.1435 - accuracy: 0.9592 - val_loss: 0.1266 - val_accuracy: 0.9633\n",
            "Epoch 15/30\n",
            "422/422 [==============================] - 13s 30ms/step - loss: 0.1367 - accuracy: 0.9611 - val_loss: 0.1202 - val_accuracy: 0.9670\n",
            "Epoch 16/30\n",
            "422/422 [==============================] - 13s 31ms/step - loss: 0.1301 - accuracy: 0.9626 - val_loss: 0.1155 - val_accuracy: 0.9683\n",
            "Epoch 17/30\n",
            "422/422 [==============================] - 13s 30ms/step - loss: 0.1239 - accuracy: 0.9648 - val_loss: 0.1114 - val_accuracy: 0.9692\n",
            "Epoch 18/30\n",
            "422/422 [==============================] - 11s 27ms/step - loss: 0.1184 - accuracy: 0.9663 - val_loss: 0.1084 - val_accuracy: 0.9700\n",
            "Epoch 19/30\n",
            "422/422 [==============================] - 13s 30ms/step - loss: 0.1133 - accuracy: 0.9678 - val_loss: 0.1060 - val_accuracy: 0.9712\n",
            "Epoch 20/30\n",
            "422/422 [==============================] - 13s 31ms/step - loss: 0.1083 - accuracy: 0.9694 - val_loss: 0.1040 - val_accuracy: 0.9718\n",
            "Epoch 21/30\n",
            "422/422 [==============================] - 13s 30ms/step - loss: 0.1039 - accuracy: 0.9703 - val_loss: 0.1007 - val_accuracy: 0.9723\n",
            "Epoch 22/30\n",
            "422/422 [==============================] - 13s 31ms/step - loss: 0.0997 - accuracy: 0.9717 - val_loss: 0.0993 - val_accuracy: 0.9723\n",
            "Epoch 23/30\n",
            "422/422 [==============================] - 12s 29ms/step - loss: 0.0959 - accuracy: 0.9730 - val_loss: 0.0969 - val_accuracy: 0.9733\n",
            "Epoch 24/30\n",
            "422/422 [==============================] - 13s 31ms/step - loss: 0.0922 - accuracy: 0.9737 - val_loss: 0.0961 - val_accuracy: 0.9737\n",
            "Epoch 25/30\n",
            "422/422 [==============================] - 13s 31ms/step - loss: 0.0887 - accuracy: 0.9746 - val_loss: 0.0928 - val_accuracy: 0.9745\n",
            "Epoch 26/30\n",
            "422/422 [==============================] - 13s 31ms/step - loss: 0.0853 - accuracy: 0.9757 - val_loss: 0.0919 - val_accuracy: 0.9740\n",
            "Epoch 27/30\n",
            "422/422 [==============================] - 13s 31ms/step - loss: 0.0823 - accuracy: 0.9769 - val_loss: 0.0908 - val_accuracy: 0.9742\n",
            "Epoch 28/30\n",
            "422/422 [==============================] - 13s 31ms/step - loss: 0.0793 - accuracy: 0.9777 - val_loss: 0.0875 - val_accuracy: 0.9750\n",
            "Epoch 29/30\n",
            "422/422 [==============================] - 12s 28ms/step - loss: 0.0766 - accuracy: 0.9785 - val_loss: 0.0874 - val_accuracy: 0.9753\n",
            "Epoch 30/30\n",
            "422/422 [==============================] - 12s 28ms/step - loss: 0.0738 - accuracy: 0.9792 - val_loss: 0.0862 - val_accuracy: 0.9750\n"
          ]
        }
      ],
      "source": [
        "from sklearn.model_selection import train_test_split\n",
        "history = nn.fit(X_train, y_train, epochs=30, batch_size=128, validation_split=0.1)"
      ]
    },
    {
      "cell_type": "markdown",
      "metadata": {
        "id": "YbvM2VmgE7kp"
      },
      "source": [
        "We will plot the loss and accuracy of both the train and validate sets over iterations."
      ]
    },
    {
      "cell_type": "code",
      "execution_count": 16,
      "metadata": {
        "id": "pZAvLvH4E7kq"
      },
      "outputs": [],
      "source": [
        "import  matplotlib.pyplot  as plt\n",
        "%matplotlib inline"
      ]
    },
    {
      "cell_type": "code",
      "execution_count": 17,
      "metadata": {
        "id": "yK25hwMbE7kr"
      },
      "outputs": [],
      "source": [
        "# The function argument is the model's history during the training process.\n",
        "def plot_loss_fn(history):\n",
        "    loss = history.history['loss']\n",
        "    val_loss = history.history['val_loss']\n",
        "\n",
        "    epochs = range(1, len(loss) + 1)\n",
        "\n",
        "    plt.plot(epochs, loss, 'go', label='Training loss')\n",
        "    plt.plot(epochs, val_loss, 'g', label='Validation loss')\n",
        "    plt.title('Training and validation loss')\n",
        "    plt.xlabel('Epochs')\n",
        "    plt.ylabel('Loss')\n",
        "    plt.legend()\n",
        "\n",
        "def plot_acc_fn(history):\n",
        "\n",
        "    acc = history.history['accuracy']\n",
        "    val_acc = history.history['val_accuracy']\n",
        "\n",
        "    epochs = range(1, len(acc) + 1)\n",
        "\n",
        "    plt.plot(epochs, acc, 'go', label='Training acc')\n",
        "    plt.plot(epochs, val_acc, 'g', label='Validation acc')\n",
        "    plt.title('Training and validation accuracy')\n",
        "    plt.xlabel('Epochs')\n",
        "    plt.ylabel('Loss')\n",
        "    plt.legend()"
      ]
    },
    {
      "cell_type": "code",
      "execution_count": 18,
      "metadata": {
        "id": "hclG6i66E7kv",
        "colab": {
          "base_uri": "https://localhost:8080/",
          "height": 472
        },
        "outputId": "b6a97f82-6352-4f8c-e79a-cae28844e260"
      },
      "outputs": [
        {
          "output_type": "display_data",
          "data": {
            "text/plain": [
              "<Figure size 640x480 with 1 Axes>"
            ],
            "image/png": "[encoded data removed]"
          },
          "metadata": {}
        }
      ],
      "source": [
        "plot_loss_fn(history)"
      ]
    },
    {
      "cell_type": "code",
      "source": [
        "plot_acc_fn(history)"
      ],
      "metadata": {
        "colab": {
          "base_uri": "https://localhost:8080/",
          "height": 472
        },
        "id": "XP3gdimyKSTZ",
        "outputId": "82d29258-5311-468d-d5d8-b066bb622693"
      },
      "execution_count": 19,
      "outputs": [
        {
          "output_type": "display_data",
          "data": {
            "text/plain": [
              "<Figure size 640x480 with 1 Axes>"
            ],
            "image/png": "[encoded data removed]"
          },
          "metadata": {}
        }
      ]
    },
    {
      "cell_type": "markdown",
      "metadata": {
        "id": "--_jK-ASE7kv"
      },
      "source": [
        "Q: At which iteration does your model start to overfit? Give your rational.\n",
        "\n",
        "**ANSWER**\n",
        "1. จากกราฟ Training and validation loss จะเห็นได้ว่า โมเดลช่วงที่มี epoch = 25 - 30 จะมี loss ที่ลดลงเรื่อย ๆ จนถึงจุดที่เริ่มลดน้อยลงจนเกือบจะเป็นค่าคงที่ ซึ่งมีการเปลี่ยนแปลงน้อยมาก ๆ ช่วงนี้จึงเกิด overfit ขึ้น\n",
        "2. จากกราฟ Training and validation accuracy จะเห็นได้ว่า โมเดลช่วงที่มี epoch = 25 - 30 จะมี accuracy ที่เพิ่มขึ้นเรื่อย ๆ จนถึงจุดที่เริ่มเพิ่มขึ้นจนเกือบจะเป็นค่าคงที่ ซึ่งมีการเปลี่ยนแปลงน้อยมาก ๆ ช่วงนี้จึงเกิด overfit ขึ้น"
      ]
    },
    {
      "cell_type": "markdown",
      "metadata": {
        "id": "apFd-PjLE7kw"
      },
      "source": [
        "### 5. Model Evaluation\n",
        "\n",
        "Evaluate your model with test set using `.evaluate()` and compare the results to those from the training and validate sets. Does your model overfit or underfit? How about the bias and variance?"
      ]
    },
    {
      "cell_type": "code",
      "execution_count": 20,
      "metadata": {
        "id": "5DWOZBhnE7kx",
        "colab": {
          "base_uri": "https://localhost:8080/"
        },
        "outputId": "2834e924-3ae8-4eef-d07e-1010881c7e9f"
      },
      "outputs": [
        {
          "output_type": "stream",
          "name": "stdout",
          "text": [
            "313/313 [==============================] - 3s 9ms/step - loss: 0.0910 - accuracy: 0.9722\n",
            "Test Loss: 0.0910298302769661\n",
            "Test Accuracy: 0.9721999764442444\n"
          ]
        }
      ],
      "source": [
        "test_loss, test_acc = nn.evaluate(X_test, y_test)\n",
        "print('Test Loss: %s\\nTest Accuracy: %s' % (test_loss,test_acc))"
      ]
    },
    {
      "cell_type": "code",
      "source": [
        "test_loss, test_acc = nn.evaluate(X_train, y_train)\n",
        "print('Train Loss: %s\\nTrain Accuracy: %s' % (test_loss,test_acc))"
      ],
      "metadata": {
        "colab": {
          "base_uri": "https://localhost:8080/"
        },
        "id": "TPteYmfWHy1h",
        "outputId": "1e3a5cc4-a7ff-49a6-b70c-9d4a01c9d07d"
      },
      "execution_count": 21,
      "outputs": [
        {
          "output_type": "stream",
          "name": "stdout",
          "text": [
            "1875/1875 [==============================] - 12s 7ms/step - loss: 0.0726 - accuracy: 0.9799\n",
            "Train Loss: 0.07256708294153214\n",
            "Train Accuracy: 0.9799166917800903\n"
          ]
        }
      ]
    },
    {
      "cell_type": "markdown",
      "source": [
        "- Does your model overfit or underfit? How about the bias and variance?\n",
        "\n",
        "  **Does your model overfit or underfit**\n",
        "  - Model fit มีความพอดี ไม่ overfit หรือ underfit\n",
        "\n",
        "  - พิจารณาจาก Training accuracy (0.9799) มากกว่า Test accuracy (0.9722) เพียงเล็กน้อย\n",
        "\n",
        "  **How about the bias and variance?**\n",
        "  - Model เป็น Good Model เพราะ Test Accuracy ค่อนข้างสูง และ Training accuracy กับ Test accuracy ห่างกันเพียงเล็กน้อยเท่านั้นทำให้เกิดความ Balance กัน\n",
        "  - Bias ต่ำเพราะ Training accuracy (0.9799) สูง\n",
        "  - Variance ต่ำเพราะ Training accuracy กับ Test accuracy ห่างกันเพียงเล็กน้อยเท่านั้น"
      ],
      "metadata": {
        "id": "UC3tcxtdIFuk"
      }
    },
    {
      "cell_type": "markdown",
      "metadata": {
        "id": "Es3qv4GUE7kx"
      },
      "source": [
        "Q: Analyze the performance of your model using a confusion matrix. Which class does your model frequently misclassify? What is the precision and recall of your model?"
      ]
    },
    {
      "cell_type": "code",
      "execution_count": 22,
      "metadata": {
        "id": "rrmzD3RtE7kx",
        "colab": {
          "base_uri": "https://localhost:8080/"
        },
        "outputId": "66deb589-0df4-4fbf-be86-5d3fdce7026d"
      },
      "outputs": [
        {
          "output_type": "stream",
          "name": "stdout",
          "text": [
            "313/313 [==============================] - 2s 7ms/step\n",
            "\n",
            "Classification Report:\n",
            "              precision    recall  f1-score   support\n",
            "\n",
            "           0       0.98      0.98      0.98       980\n",
            "           1       0.99      0.99      0.99      1135\n",
            "           2       0.96      0.98      0.97      1032\n",
            "           3       0.97      0.98      0.97      1010\n",
            "           4       0.98      0.97      0.97       982\n",
            "           5       0.97      0.96      0.96       892\n",
            "           6       0.98      0.97      0.98       958\n",
            "           7       0.97      0.97      0.97      1028\n",
            "           8       0.97      0.96      0.97       974\n",
            "           9       0.97      0.96      0.96      1009\n",
            "\n",
            "    accuracy                           0.97     10000\n",
            "   macro avg       0.97      0.97      0.97     10000\n",
            "weighted avg       0.97      0.97      0.97     10000\n",
            "\n",
            "\n",
            "Confusion Matrix:\n",
            "[[ 963    0    1    1    0    5    4    2    2    2]\n",
            " [   0 1120    3    1    0    1    4    1    5    0]\n",
            " [   4    1 1010    2    3    0    1    6    5    0]\n",
            " [   0    0    5  987    0    5    0    6    5    2]\n",
            " [   1    0    8    0  951    0    1    2    2   17]\n",
            " [   5    1    0   12    2  854    8    1    7    2]\n",
            " [   5    3    1    1    4    5  934    0    5    0]\n",
            " [   1    6   14    3    0    0    0  995    0    9]\n",
            " [   3    0    5    7    3    6    4    5  939    2]\n",
            " [   3    5    2    8   11    2    1    7    1  969]]\n"
          ]
        }
      ],
      "source": [
        "from sklearn.metrics import classification_report, confusion_matrix\n",
        "\n",
        "### evaluate your model ###\n",
        "y_pred = nn.predict(X_test)\n",
        "y_pred = np.argmax(y_pred, axis=1)\n",
        "y_test2 = np.argmax(y_test, axis=1)\n",
        "\n",
        "print(\"\\nClassification Report:\")\n",
        "print(classification_report(y_test2, y_pred))\n",
        "print(\"\\nConfusion Matrix:\")\n",
        "print(confusion_matrix(y_test2, y_pred))"
      ]
    },
    {
      "cell_type": "markdown",
      "metadata": {
        "id": "wav4bZmPE7ky"
      },
      "source": [
        "\n",
        "**ANSWER**"
      ]
    },
    {
      "cell_type": "markdown",
      "metadata": {
        "id": "frboEwSkE7ky"
      },
      "source": [
        "- Does your model overfit or underfit? How about the bias and variance?\n",
        "\n",
        "  **Does your model overfit or underfit**\n",
        "  - Model fit มีความพอดี ไม่ overfit หรือ underfit\n",
        "\n",
        "  - พิจารณาจาก Training accuracy (0.9799) มากกว่า Test accuracy (0.9722) เพียงเล็กน้อย\n",
        "\n",
        "  **How about the bias and variance?**\n",
        "  - Model เป็น Good Model เพราะ Test Accuracy ค่อนข้างสูง และ Training accuracy กับ Test accuracy ห่างกันเพียงเล็กน้อยเท่านั้นทำให้เกิดความ Balance กัน\n",
        "  - Bias ต่ำเพราะ Training accuracy (0.9799) สูง\n",
        "  - Variance ต่ำเพราะ Training accuracy กับ Test accuracy ห่างกันเพียงเล็กน้อยเท่านั้น\n",
        "\n",
        "<br><br>\n",
        "- Which class does your model frequently misclassify?\n",
        "\n",
        "class ที่มีการทำนายผิดมากที่สุดคือ class 2 ที่มี precision = 0.96 ซึ่งหมายความว่าทำนายเลข 2 เป็นเลขอื่น ๆ ทั้งหมด 4 ตัว\n",
        "\n",
        "<br><br>\n",
        "- What is the precision and recall of your model?\n",
        "<br>\n",
        "precision = 0.97\n",
        "recall = 0.97"
      ]
    },
    {
      "cell_type": "markdown",
      "metadata": {
        "id": "TMPCocnEE7ky"
      },
      "source": [
        "### 6. Model tuning\n",
        "\n",
        "Try tuning your model by:\n",
        "1. Adjust the learning rate of your optimizer by increasing and decreasing the learning rate to see how it affects your model.\n",
        "2. Experiment with different optimizers ('sgd', 'rmspop', 'adagrad', 'adam', See https://keras.io/optimizers ) to see which one converges faster.\n",
        "3. Change the structure of your model by adding more hidden layers with any number of nodes, and then observe how this affects your model."
      ]
    },
    {
      "cell_type": "markdown",
      "source": [
        "**6.1. Adjust the learning rate of your optimizer by increasing and decreasing the learning rate to see how it affects your model.**"
      ],
      "metadata": {
        "id": "36w1hAleaoE4"
      }
    },
    {
      "cell_type": "code",
      "source": [
        "import tensorflow as tf"
      ],
      "metadata": {
        "id": "e7UQoFzQY_0c"
      },
      "execution_count": 23,
      "outputs": []
    },
    {
      "cell_type": "markdown",
      "source": [
        "<font color='#9900cc'> **6.1.1 [Default] the learning rate of my optimizer**"
      ],
      "metadata": {
        "id": "tgwME6PwX77l"
      }
    },
    {
      "cell_type": "code",
      "execution_count": 24,
      "metadata": {
        "id": "pkpmVx0DE7kz"
      },
      "outputs": [],
      "source": [
        "nn_default = models.Sequential() # Create Model\n",
        "nn_default.add(layers.Dense(784,activation = 'linear',input_shape=(None,784))) # Input Layer\n",
        "nn_default.add(layers.Dense(512,activation = 'relu')) # Hidden Layer #1\n",
        "nn_default.add(layers.Dense(512,activation = 'linear')) # Hidden Layer #2\n",
        "nn_default.add(layers.Dense(10,activation = 'softmax')) # Output Layer\n"
      ]
    },
    {
      "cell_type": "markdown",
      "source": [
        " - <font color='#9900cc'> Default learning rate is 0.01"
      ],
      "metadata": {
        "id": "FL4eSwnHZRza"
      }
    },
    {
      "cell_type": "code",
      "source": [
        "nn_default.compile(optimizer='sgd', loss='categorical_crossentropy', metrics=['accuracy'])"
      ],
      "metadata": {
        "id": "nF_qyX4SZRRS"
      },
      "execution_count": 25,
      "outputs": []
    },
    {
      "cell_type": "code",
      "source": [
        "history_default = nn_default.fit(X_train, y_train, batch_size=128, validation_split=0.1, epochs=10)"
      ],
      "metadata": {
        "colab": {
          "base_uri": "https://localhost:8080/"
        },
        "id": "lU7xdXdaZamv",
        "outputId": "4a4ba5e8-0660-43cc-ede6-fe9dee33b45f"
      },
      "execution_count": 26,
      "outputs": [
        {
          "output_type": "stream",
          "name": "stdout",
          "text": [
            "Epoch 1/10\n",
            "422/422 [==============================] - 14s 32ms/step - loss: 0.7695 - accuracy: 0.8135 - val_loss: 0.3469 - val_accuracy: 0.9085\n",
            "Epoch 2/10\n",
            "422/422 [==============================] - 11s 27ms/step - loss: 0.3677 - accuracy: 0.8979 - val_loss: 0.2704 - val_accuracy: 0.9222\n",
            "Epoch 3/10\n",
            "422/422 [==============================] - 12s 29ms/step - loss: 0.3089 - accuracy: 0.9129 - val_loss: 0.2340 - val_accuracy: 0.9328\n",
            "Epoch 4/10\n",
            "422/422 [==============================] - 17s 40ms/step - loss: 0.2750 - accuracy: 0.9222 - val_loss: 0.2123 - val_accuracy: 0.9392\n",
            "Epoch 5/10\n",
            "422/422 [==============================] - 13s 31ms/step - loss: 0.2504 - accuracy: 0.9288 - val_loss: 0.1942 - val_accuracy: 0.9468\n",
            "Epoch 6/10\n",
            "422/422 [==============================] - 13s 30ms/step - loss: 0.2303 - accuracy: 0.9341 - val_loss: 0.1805 - val_accuracy: 0.9522\n",
            "Epoch 7/10\n",
            "422/422 [==============================] - 13s 30ms/step - loss: 0.2132 - accuracy: 0.9398 - val_loss: 0.1673 - val_accuracy: 0.9537\n",
            "Epoch 8/10\n",
            "422/422 [==============================] - 24s 58ms/step - loss: 0.1979 - accuracy: 0.9436 - val_loss: 0.1581 - val_accuracy: 0.9583\n",
            "Epoch 9/10\n",
            "422/422 [==============================] - 14s 34ms/step - loss: 0.1851 - accuracy: 0.9478 - val_loss: 0.1491 - val_accuracy: 0.9610\n",
            "Epoch 10/10\n",
            "422/422 [==============================] - 17s 40ms/step - loss: 0.1735 - accuracy: 0.9507 - val_loss: 0.1404 - val_accuracy: 0.9632\n"
          ]
        }
      ]
    },
    {
      "cell_type": "code",
      "source": [
        "test_loss, test_acc = nn_default.evaluate(X_test, y_test)\n",
        "print('Test Loss: %s\\nTest Accuracy: %s' % (test_loss,test_acc))"
      ],
      "metadata": {
        "colab": {
          "base_uri": "https://localhost:8080/"
        },
        "id": "6OCqM7ENZpAj",
        "outputId": "96449160-16aa-4ef7-f289-6d51ffb2fa45"
      },
      "execution_count": 27,
      "outputs": [
        {
          "output_type": "stream",
          "name": "stdout",
          "text": [
            "313/313 [==============================] - 2s 7ms/step - loss: 0.1655 - accuracy: 0.9518\n",
            "Test Loss: 0.16551458835601807\n",
            "Test Accuracy: 0.9517999887466431\n"
          ]
        }
      ]
    },
    {
      "cell_type": "code",
      "source": [
        "plot_loss_fn(history_default)"
      ],
      "metadata": {
        "id": "JlAtR1oraZBT",
        "colab": {
          "base_uri": "https://localhost:8080/",
          "height": 472
        },
        "outputId": "7614c2f5-1bde-4b87-aa5c-84a695155a2e"
      },
      "execution_count": 28,
      "outputs": [
        {
          "output_type": "display_data",
          "data": {
            "text/plain": [
              "<Figure size 640x480 with 1 Axes>"
            ],
            "image/png": "[encoded data removed]"
          },
          "metadata": {}
        }
      ]
    },
    {
      "cell_type": "code",
      "source": [
        "plot_acc_fn(history_default)"
      ],
      "metadata": {
        "id": "FAWvJiV-acX2",
        "colab": {
          "base_uri": "https://localhost:8080/",
          "height": 472
        },
        "outputId": "4c368087-633c-42f4-b0e5-1be0bdd316b2"
      },
      "execution_count": 29,
      "outputs": [
        {
          "output_type": "display_data",
          "data": {
            "text/plain": [
              "<Figure size 640x480 with 1 Axes>"
            ],
            "image/png": "[encoded data removed]"
          },
          "metadata": {}
        }
      ]
    },
    {
      "cell_type": "markdown",
      "source": [
        " <font color='#9900cc'> **6.1.2 [Increasing] the learning rate of my optimizer**"
      ],
      "metadata": {
        "id": "a6Vx4BXTa4M9"
      }
    },
    {
      "cell_type": "code",
      "source": [
        "nn_increasing = models.Sequential() # Create Model\n",
        "nn_increasing.add(layers.Dense(784,activation = 'linear',input_shape=(None,784))) # Input Layer\n",
        "nn_increasing.add(layers.Dense(512,activation = 'relu')) # Hidden Layer #1\n",
        "nn_increasing.add(layers.Dense(512,activation = 'linear')) # Hidden Layer #2\n",
        "nn_increasing.add(layers.Dense(10,activation = 'softmax')) # Output Layer"
      ],
      "metadata": {
        "id": "rWn9kXPMa_Bt"
      },
      "execution_count": 30,
      "outputs": []
    },
    {
      "cell_type": "markdown",
      "source": [
        " - <font color='#9900cc'> Increasing learning rate is 0.1"
      ],
      "metadata": {
        "id": "PTi5GGQSbJR3"
      }
    },
    {
      "cell_type": "code",
      "source": [
        "nn_increasing.compile(optimizer = tf.keras.optimizers.SGD(learning_rate=0.1),\n",
        "              loss='categorical_crossentropy',\n",
        "              metrics=['accuracy'])"
      ],
      "metadata": {
        "id": "RZjDCxQbbLBz"
      },
      "execution_count": 31,
      "outputs": []
    },
    {
      "cell_type": "code",
      "source": [
        "history_increasing = nn_increasing.fit(X_train, y_train, batch_size=128, validation_split=0.1, epochs=10)"
      ],
      "metadata": {
        "id": "VqSffBlCbQch",
        "colab": {
          "base_uri": "https://localhost:8080/"
        },
        "outputId": "394a0033-ecc0-47ba-a665-ebace06ed6d0"
      },
      "execution_count": 32,
      "outputs": [
        {
          "output_type": "stream",
          "name": "stdout",
          "text": [
            "Epoch 1/10\n",
            "422/422 [==============================] - 14s 31ms/step - loss: 0.3339 - accuracy: 0.9019 - val_loss: 0.1554 - val_accuracy: 0.9575\n",
            "Epoch 2/10\n",
            "422/422 [==============================] - 12s 29ms/step - loss: 0.1480 - accuracy: 0.9574 - val_loss: 0.1009 - val_accuracy: 0.9720\n",
            "Epoch 3/10\n",
            "422/422 [==============================] - 11s 26ms/step - loss: 0.1011 - accuracy: 0.9701 - val_loss: 0.0835 - val_accuracy: 0.9772\n",
            "Epoch 4/10\n",
            "422/422 [==============================] - 13s 30ms/step - loss: 0.0762 - accuracy: 0.9777 - val_loss: 0.0769 - val_accuracy: 0.9783\n",
            "Epoch 5/10\n",
            "422/422 [==============================] - 13s 31ms/step - loss: 0.0601 - accuracy: 0.9825 - val_loss: 0.0712 - val_accuracy: 0.9795\n",
            "Epoch 6/10\n",
            "422/422 [==============================] - 13s 30ms/step - loss: 0.0474 - accuracy: 0.9870 - val_loss: 0.0720 - val_accuracy: 0.9805\n",
            "Epoch 7/10\n",
            "422/422 [==============================] - 13s 32ms/step - loss: 0.0391 - accuracy: 0.9887 - val_loss: 0.0707 - val_accuracy: 0.9808\n",
            "Epoch 8/10\n",
            "422/422 [==============================] - 12s 28ms/step - loss: 0.0314 - accuracy: 0.9916 - val_loss: 0.0636 - val_accuracy: 0.9818\n",
            "Epoch 9/10\n",
            "422/422 [==============================] - 11s 27ms/step - loss: 0.0251 - accuracy: 0.9933 - val_loss: 0.0673 - val_accuracy: 0.9810\n",
            "Epoch 10/10\n",
            "422/422 [==============================] - 13s 31ms/step - loss: 0.0205 - accuracy: 0.9950 - val_loss: 0.0715 - val_accuracy: 0.9812\n"
          ]
        }
      ]
    },
    {
      "cell_type": "code",
      "source": [
        "test_loss, test_acc = nn_increasing.evaluate(X_test, y_test)\n",
        "print('Test Loss: %s\\nTest Accuracy: %s' % (test_loss,test_acc))"
      ],
      "metadata": {
        "id": "yPJFqXsHbebj",
        "colab": {
          "base_uri": "https://localhost:8080/"
        },
        "outputId": "262a190b-ade8-47b5-9c6f-5b04464dfee6"
      },
      "execution_count": 33,
      "outputs": [
        {
          "output_type": "stream",
          "name": "stdout",
          "text": [
            "313/313 [==============================] - 2s 6ms/step - loss: 0.0638 - accuracy: 0.9800\n",
            "Test Loss: 0.06379667669534683\n",
            "Test Accuracy: 0.9800000190734863\n"
          ]
        }
      ]
    },
    {
      "cell_type": "code",
      "source": [
        "plot_loss_fn(history_increasing)"
      ],
      "metadata": {
        "id": "pSUNP8Pybjn0",
        "colab": {
          "base_uri": "https://localhost:8080/",
          "height": 472
        },
        "outputId": "c8f418b6-6abe-4801-8a86-b02444f9bdb1"
      },
      "execution_count": 34,
      "outputs": [
        {
          "output_type": "display_data",
          "data": {
            "text/plain": [
              "<Figure size 640x480 with 1 Axes>"
            ],
            "image/png": "[encoded data removed]"
          },
          "metadata": {}
        }
      ]
    },
    {
      "cell_type": "code",
      "source": [
        "plot_acc_fn(history_increasing)"
      ],
      "metadata": {
        "id": "ULVwAJJwblGQ",
        "colab": {
          "base_uri": "https://localhost:8080/",
          "height": 472
        },
        "outputId": "e80f4b91-9e70-4911-865d-49062b2dc8a0"
      },
      "execution_count": 35,
      "outputs": [
        {
          "output_type": "display_data",
          "data": {
            "text/plain": [
              "<Figure size 640x480 with 1 Axes>"
            ],
            "image/png": "[encoded data removed]"
          },
          "metadata": {}
        }
      ]
    },
    {
      "cell_type": "markdown",
      "source": [
        "<font color='#9900cc'>  **6.1.3 [Decreasing] the learning rate of my optimizer**\n",
        "\n"
      ],
      "metadata": {
        "id": "6xnYgj5gbosy"
      }
    },
    {
      "cell_type": "markdown",
      "source": [],
      "metadata": {
        "id": "XqrPdsfPz1Mw"
      }
    },
    {
      "cell_type": "code",
      "source": [
        "nn_decreasing = models.Sequential() # Create Model\n",
        "nn_decreasing.add(layers.Dense(784,activation = 'linear',input_shape=(None,784))) # Input Layer\n",
        "nn_decreasing.add(layers.Dense(512,activation = 'relu')) # Hidden Layer #1\n",
        "nn_decreasing.add(layers.Dense(512,activation = 'linear')) # Hidden Layer #2\n",
        "nn_decreasing.add(layers.Dense(10,activation = 'softmax')) # Output Layer"
      ],
      "metadata": {
        "id": "Z7dIztvAbtQe"
      },
      "execution_count": 36,
      "outputs": []
    },
    {
      "cell_type": "markdown",
      "source": [
        " - <font color='#9900cc'> Decreasing learning rate is 0.005"
      ],
      "metadata": {
        "id": "fiELE6JObyvL"
      }
    },
    {
      "cell_type": "code",
      "source": [
        "nn_decreasing.compile(optimizer = tf.keras.optimizers.SGD(learning_rate=0.005),\n",
        "              loss='categorical_crossentropy',\n",
        "              metrics=['accuracy'])"
      ],
      "metadata": {
        "id": "bmOtp7nvcE5g"
      },
      "execution_count": 37,
      "outputs": []
    },
    {
      "cell_type": "code",
      "source": [
        "history_decreasing = nn_decreasing.fit(X_train, y_train, batch_size=128, validation_split=0.1, epochs=10)"
      ],
      "metadata": {
        "id": "ZHXOMXMTcMWL",
        "colab": {
          "base_uri": "https://localhost:8080/"
        },
        "outputId": "cd844760-4f49-496e-f897-e26369c88bca"
      },
      "execution_count": 38,
      "outputs": [
        {
          "output_type": "stream",
          "name": "stdout",
          "text": [
            "Epoch 1/10\n",
            "422/422 [==============================] - 13s 30ms/step - loss: 1.0326 - accuracy: 0.7665 - val_loss: 0.4823 - val_accuracy: 0.8948\n",
            "Epoch 2/10\n",
            "422/422 [==============================] - 11s 26ms/step - loss: 0.4678 - accuracy: 0.8784 - val_loss: 0.3393 - val_accuracy: 0.9152\n",
            "Epoch 3/10\n",
            "422/422 [==============================] - 12s 28ms/step - loss: 0.3813 - accuracy: 0.8951 - val_loss: 0.2916 - val_accuracy: 0.9237\n",
            "Epoch 4/10\n",
            "422/422 [==============================] - 14s 33ms/step - loss: 0.3421 - accuracy: 0.9048 - val_loss: 0.2666 - val_accuracy: 0.9290\n",
            "Epoch 5/10\n",
            "422/422 [==============================] - 12s 29ms/step - loss: 0.3173 - accuracy: 0.9108 - val_loss: 0.2497 - val_accuracy: 0.9322\n",
            "Epoch 6/10\n",
            "422/422 [==============================] - 14s 34ms/step - loss: 0.2987 - accuracy: 0.9155 - val_loss: 0.2371 - val_accuracy: 0.9363\n",
            "Epoch 7/10\n",
            "422/422 [==============================] - 12s 30ms/step - loss: 0.2836 - accuracy: 0.9204 - val_loss: 0.2264 - val_accuracy: 0.9398\n",
            "Epoch 8/10\n",
            "422/422 [==============================] - 11s 26ms/step - loss: 0.2705 - accuracy: 0.9233 - val_loss: 0.2165 - val_accuracy: 0.9418\n",
            "Epoch 9/10\n",
            "422/422 [==============================] - 12s 28ms/step - loss: 0.2587 - accuracy: 0.9272 - val_loss: 0.2070 - val_accuracy: 0.9437\n",
            "Epoch 10/10\n",
            "422/422 [==============================] - 12s 29ms/step - loss: 0.2479 - accuracy: 0.9299 - val_loss: 0.1999 - val_accuracy: 0.9447\n"
          ]
        }
      ]
    },
    {
      "cell_type": "code",
      "source": [
        "test_loss, test_acc = nn_decreasing.evaluate(X_test, y_test)\n",
        "print('Test Loss: %s\\nTest Accuracy: %s' % (test_loss,test_acc))"
      ],
      "metadata": {
        "id": "aeKd4KaecWup",
        "colab": {
          "base_uri": "https://localhost:8080/"
        },
        "outputId": "9b27de13-c002-473b-933d-7bf794573e61"
      },
      "execution_count": 39,
      "outputs": [
        {
          "output_type": "stream",
          "name": "stdout",
          "text": [
            "313/313 [==============================] - 3s 9ms/step - loss: 0.2329 - accuracy: 0.9341\n",
            "Test Loss: 0.23289474844932556\n",
            "Test Accuracy: 0.9340999722480774\n"
          ]
        }
      ]
    },
    {
      "cell_type": "code",
      "source": [
        "plot_loss_fn(history_decreasing)"
      ],
      "metadata": {
        "id": "4wlmxxSRcZYx",
        "colab": {
          "base_uri": "https://localhost:8080/",
          "height": 472
        },
        "outputId": "ae3fd274-2dce-4922-f2af-21b846e202d4"
      },
      "execution_count": 40,
      "outputs": [
        {
          "output_type": "display_data",
          "data": {
            "text/plain": [
              "<Figure size 640x480 with 1 Axes>"
            ],
            "image/png": "[encoded data removed]"
          },
          "metadata": {}
        }
      ]
    },
    {
      "cell_type": "code",
      "source": [
        "plot_acc_fn(history_decreasing)"
      ],
      "metadata": {
        "id": "LkOCMGOycard",
        "colab": {
          "base_uri": "https://localhost:8080/",
          "height": 472
        },
        "outputId": "96634b5a-b65b-4990-a678-e15f7f3c2711"
      },
      "execution_count": 41,
      "outputs": [
        {
          "output_type": "display_data",
          "data": {
            "text/plain": [
              "<Figure size 640x480 with 1 Axes>"
            ],
            "image/png": "[encoded data removed]"
          },
          "metadata": {}
        }
      ]
    },
    {
      "cell_type": "markdown",
      "source": [
        "**Summary**\n",
        "\n",
        "Default learning rate = 0.01\n",
        "- ได้ Test Loss: 0.16551458835601807\n",
        "- และได้ Test Accuracy: 0.9517999887466431\n",
        "\n",
        "Increasing learning rate is 0.1\n",
        "- ได้ Test Loss: 0.06379667669534683\n",
        "- และได้ Test Accuracy: 0.9800000190734863\n",
        "\n",
        "Decreasing learning rate is 0.005\n",
        "- ได้ Test Loss: 0.23289474844932556\n",
        "- และได้ Test Accuracy: 0.9340999722480774\n",
        "\n",
        "จะเห็นได้ว่าเมื่อเพิ่ม learning rate จะได้ Accuracy ที่เพิ่มขึ้นและ Loss ที่น้อยลง (เปรียบเทียบ Default และ Increasing)\n",
        "\n",
        "และในทางตรงกันข้ามถ้าลด learning rate จะได้ Accuracy ที่ลดลงและ Loss ที่เพิ่มขึ้น (เปรียบเทียบ Default และ Decreasing)"
      ],
      "metadata": {
        "id": "hyEp6UwPdTLE"
      }
    },
    {
      "cell_type": "markdown",
      "source": [
        "**6.2. Experiment with different optimizers ('sgd', 'rmsprop', 'adagrad', 'adam', See https://keras.io/optimizers ) to see which one converges faster.**\n",
        "\n",
        "---\n",
        "\n"
      ],
      "metadata": {
        "id": "FhAn_OHvc1wL"
      }
    },
    {
      "cell_type": "code",
      "source": [
        "import time"
      ],
      "metadata": {
        "id": "p85qb_tAdXnx"
      },
      "execution_count": 42,
      "outputs": []
    },
    {
      "cell_type": "markdown",
      "source": [
        " - <font color='#9900cc'> 6.2.1 optimizer = sgd"
      ],
      "metadata": {
        "id": "S3N1Ahm8c8ED"
      }
    },
    {
      "cell_type": "code",
      "source": [
        "nn_default = models.Sequential() # Create Model\n",
        "nn_default.add(layers.Dense(784,activation = 'linear',input_shape=(None,784))) # Input Layer\n",
        "nn_default.add(layers.Dense(512,activation = 'relu')) # Hidden Layer #1\n",
        "nn_default.add(layers.Dense(512,activation = 'linear')) # Hidden Layer #2\n",
        "nn_default.add(layers.Dense(10,activation = 'softmax')) # Output Layer"
      ],
      "metadata": {
        "id": "oY4cnVeydY6H"
      },
      "execution_count": 43,
      "outputs": []
    },
    {
      "cell_type": "code",
      "source": [
        "nn_default.compile(optimizer = 'sgd',\n",
        "              loss='categorical_crossentropy',\n",
        "              metrics=['accuracy'])"
      ],
      "metadata": {
        "id": "5xiC942GdkHy"
      },
      "execution_count": 44,
      "outputs": []
    },
    {
      "cell_type": "code",
      "source": [
        "start = time.time()\n",
        "history = nn_default.fit(X_train, y_train, batch_size=128, validation_split=0.1, epochs=10)\n",
        "end = time.time()\n",
        "print(\"Run time: \",end - start)"
      ],
      "metadata": {
        "id": "m9vUGcWhdnkj",
        "colab": {
          "base_uri": "https://localhost:8080/"
        },
        "outputId": "fce283ec-2c35-479d-fd02-9b9c8b114dae"
      },
      "execution_count": 45,
      "outputs": [
        {
          "output_type": "stream",
          "name": "stdout",
          "text": [
            "Epoch 1/10\n",
            "422/422 [==============================] - 13s 30ms/step - loss: 0.7701 - accuracy: 0.8143 - val_loss: 0.3432 - val_accuracy: 0.9098\n",
            "Epoch 2/10\n",
            "422/422 [==============================] - 12s 29ms/step - loss: 0.3651 - accuracy: 0.8980 - val_loss: 0.2718 - val_accuracy: 0.9260\n",
            "Epoch 3/10\n",
            "422/422 [==============================] - 11s 25ms/step - loss: 0.3107 - accuracy: 0.9118 - val_loss: 0.2389 - val_accuracy: 0.9345\n",
            "Epoch 4/10\n",
            "422/422 [==============================] - 13s 31ms/step - loss: 0.2793 - accuracy: 0.9207 - val_loss: 0.2185 - val_accuracy: 0.9390\n",
            "Epoch 5/10\n",
            "422/422 [==============================] - 13s 30ms/step - loss: 0.2558 - accuracy: 0.9274 - val_loss: 0.2025 - val_accuracy: 0.9437\n",
            "Epoch 6/10\n",
            "422/422 [==============================] - 14s 33ms/step - loss: 0.2364 - accuracy: 0.9331 - val_loss: 0.1909 - val_accuracy: 0.9458\n",
            "Epoch 7/10\n",
            "422/422 [==============================] - 20s 48ms/step - loss: 0.2200 - accuracy: 0.9376 - val_loss: 0.1763 - val_accuracy: 0.9522\n",
            "Epoch 8/10\n",
            "422/422 [==============================] - 15s 36ms/step - loss: 0.2047 - accuracy: 0.9416 - val_loss: 0.1647 - val_accuracy: 0.9565\n",
            "Epoch 9/10\n",
            "422/422 [==============================] - 12s 30ms/step - loss: 0.1913 - accuracy: 0.9454 - val_loss: 0.1556 - val_accuracy: 0.9582\n",
            "Epoch 10/10\n",
            "422/422 [==============================] - 13s 30ms/step - loss: 0.1792 - accuracy: 0.9487 - val_loss: 0.1459 - val_accuracy: 0.9620\n",
            "Run time:  137.26582503318787\n"
          ]
        }
      ]
    },
    {
      "cell_type": "code",
      "source": [
        "test_loss, test_acc = nn_default.evaluate(X_test, y_test)\n",
        "print('Test Loss: %s\\nTest Accuracy: %s' % (test_loss,test_acc))"
      ],
      "metadata": {
        "id": "67HJhCfMdtEL",
        "colab": {
          "base_uri": "https://localhost:8080/"
        },
        "outputId": "b784d97a-263c-4a7b-9530-399ecfbdb074"
      },
      "execution_count": 46,
      "outputs": [
        {
          "output_type": "stream",
          "name": "stdout",
          "text": [
            "313/313 [==============================] - 2s 5ms/step - loss: 0.1715 - accuracy: 0.9508\n",
            "Test Loss: 0.1715206503868103\n",
            "Test Accuracy: 0.9508000016212463\n"
          ]
        }
      ]
    },
    {
      "cell_type": "markdown",
      "source": [
        " - <font color='#9900cc'> 6.2.2 optimizer = rmsprop"
      ],
      "metadata": {
        "id": "8Wa7u0zbdHXF"
      }
    },
    {
      "cell_type": "code",
      "source": [
        "nn_default = models.Sequential() # Create Model\n",
        "nn_default.add(layers.Dense(784,activation = 'linear',input_shape=(None,784))) # Input Layer\n",
        "nn_default.add(layers.Dense(512,activation = 'relu')) # Hidden Layer #1\n",
        "nn_default.add(layers.Dense(512,activation = 'linear')) # Hidden Layer #2\n",
        "nn_default.add(layers.Dense(10,activation = 'softmax')) # Output Layer"
      ],
      "metadata": {
        "id": "DhVjesUydwl8"
      },
      "execution_count": 47,
      "outputs": []
    },
    {
      "cell_type": "code",
      "source": [
        "nn_default.compile(optimizer = 'rmsprop',\n",
        "              loss='categorical_crossentropy',\n",
        "              metrics=['accuracy'])"
      ],
      "metadata": {
        "id": "zDCJMK53dxwh"
      },
      "execution_count": 48,
      "outputs": []
    },
    {
      "cell_type": "code",
      "source": [
        "start = time.time()\n",
        "history = nn_default.fit(X_train, y_train, batch_size=128, validation_split=0.1, epochs=10)\n",
        "end = time.time()\n",
        "print(\"Run time: \",end - start)"
      ],
      "metadata": {
        "id": "YeYWMdSEdzkd",
        "colab": {
          "base_uri": "https://localhost:8080/"
        },
        "outputId": "3af41419-e87c-497b-9ff4-a9f6f6653194"
      },
      "execution_count": 49,
      "outputs": [
        {
          "output_type": "stream",
          "name": "stdout",
          "text": [
            "Epoch 1/10\n",
            "422/422 [==============================] - 15s 35ms/step - loss: 0.2863 - accuracy: 0.9135 - val_loss: 0.1174 - val_accuracy: 0.9667\n",
            "Epoch 2/10\n",
            "422/422 [==============================] - 15s 34ms/step - loss: 0.1324 - accuracy: 0.9613 - val_loss: 0.0902 - val_accuracy: 0.9755\n",
            "Epoch 3/10\n",
            "422/422 [==============================] - 15s 35ms/step - loss: 0.0987 - accuracy: 0.9700 - val_loss: 0.0996 - val_accuracy: 0.9730\n",
            "Epoch 4/10\n",
            "422/422 [==============================] - 15s 35ms/step - loss: 0.0838 - accuracy: 0.9757 - val_loss: 0.0797 - val_accuracy: 0.9785\n",
            "Epoch 5/10\n",
            "422/422 [==============================] - 15s 34ms/step - loss: 0.0694 - accuracy: 0.9795 - val_loss: 0.0835 - val_accuracy: 0.9785\n",
            "Epoch 6/10\n",
            "422/422 [==============================] - 14s 34ms/step - loss: 0.0640 - accuracy: 0.9808 - val_loss: 0.0928 - val_accuracy: 0.9783\n",
            "Epoch 7/10\n",
            "422/422 [==============================] - 15s 34ms/step - loss: 0.0544 - accuracy: 0.9844 - val_loss: 0.1155 - val_accuracy: 0.9752\n",
            "Epoch 8/10\n",
            "422/422 [==============================] - 15s 35ms/step - loss: 0.0480 - accuracy: 0.9859 - val_loss: 0.1261 - val_accuracy: 0.9737\n",
            "Epoch 9/10\n",
            "422/422 [==============================] - 15s 35ms/step - loss: 0.0438 - accuracy: 0.9872 - val_loss: 0.1011 - val_accuracy: 0.9788\n",
            "Epoch 10/10\n",
            "422/422 [==============================] - 15s 35ms/step - loss: 0.0433 - accuracy: 0.9883 - val_loss: 0.1474 - val_accuracy: 0.9730\n",
            "Run time:  147.90201449394226\n"
          ]
        }
      ]
    },
    {
      "cell_type": "code",
      "source": [
        "test_loss, test_acc = nn_default.evaluate(X_test, y_test)\n",
        "print('Test Loss: %s\\nTest Accuracy: %s' % (test_loss,test_acc))"
      ],
      "metadata": {
        "id": "xT_u4Boud2nN",
        "colab": {
          "base_uri": "https://localhost:8080/"
        },
        "outputId": "c35bd1d4-d11a-44c9-a05b-9c41ef678c4c"
      },
      "execution_count": 50,
      "outputs": [
        {
          "output_type": "stream",
          "name": "stdout",
          "text": [
            "313/313 [==============================] - 2s 6ms/step - loss: 0.1841 - accuracy: 0.9676\n",
            "Test Loss: 0.18412961065769196\n",
            "Test Accuracy: 0.9675999879837036\n"
          ]
        }
      ]
    },
    {
      "cell_type": "markdown",
      "source": [
        " - <font color='#9900cc'> 6.2.3 optimizer = adagrad"
      ],
      "metadata": {
        "id": "A-wq3bwQdHHF"
      }
    },
    {
      "cell_type": "code",
      "source": [
        "nn_default = models.Sequential() # Create Model\n",
        "nn_default.add(layers.Dense(784,activation = 'linear',input_shape=(None,784))) # Input Layer\n",
        "nn_default.add(layers.Dense(512,activation = 'relu')) # Hidden Layer #1\n",
        "nn_default.add(layers.Dense(512,activation = 'linear')) # Hidden Layer #2\n",
        "nn_default.add(layers.Dense(10,activation = 'softmax')) # Output Layer"
      ],
      "metadata": {
        "id": "SwBcH6wTd4Sv"
      },
      "execution_count": 51,
      "outputs": []
    },
    {
      "cell_type": "code",
      "source": [
        "nn_default.compile(optimizer = 'adagrad',\n",
        "              loss='categorical_crossentropy',\n",
        "              metrics=['accuracy'])"
      ],
      "metadata": {
        "id": "U9QN1blWd4QZ"
      },
      "execution_count": 52,
      "outputs": []
    },
    {
      "cell_type": "code",
      "source": [
        "start = time.time()\n",
        "history = nn_default.fit(X_train, y_train, batch_size=128, validation_split=0.1, epochs=10)\n",
        "end = time.time()\n",
        "print(\"Run time: \",end - start)"
      ],
      "metadata": {
        "id": "h-8q0_1rd8BQ",
        "colab": {
          "base_uri": "https://localhost:8080/"
        },
        "outputId": "72c80eb9-bf52-474f-fa89-2a89b4543f04"
      },
      "execution_count": 53,
      "outputs": [
        {
          "output_type": "stream",
          "name": "stdout",
          "text": [
            "Epoch 1/10\n",
            "422/422 [==============================] - 15s 35ms/step - loss: 1.2636 - accuracy: 0.7139 - val_loss: 0.6610 - val_accuracy: 0.8653\n",
            "Epoch 2/10\n",
            "422/422 [==============================] - 14s 34ms/step - loss: 0.5968 - accuracy: 0.8541 - val_loss: 0.4310 - val_accuracy: 0.8987\n",
            "Epoch 3/10\n",
            "422/422 [==============================] - 14s 34ms/step - loss: 0.4625 - accuracy: 0.8787 - val_loss: 0.3546 - val_accuracy: 0.9105\n",
            "Epoch 4/10\n",
            "422/422 [==============================] - 14s 34ms/step - loss: 0.4046 - accuracy: 0.8903 - val_loss: 0.3169 - val_accuracy: 0.9185\n",
            "Epoch 5/10\n",
            "422/422 [==============================] - 14s 34ms/step - loss: 0.3709 - accuracy: 0.8978 - val_loss: 0.2931 - val_accuracy: 0.9220\n",
            "Epoch 6/10\n",
            "422/422 [==============================] - 14s 34ms/step - loss: 0.3476 - accuracy: 0.9028 - val_loss: 0.2764 - val_accuracy: 0.9237\n",
            "Epoch 7/10\n",
            "422/422 [==============================] - 14s 33ms/step - loss: 0.3300 - accuracy: 0.9072 - val_loss: 0.2638 - val_accuracy: 0.9268\n",
            "Epoch 8/10\n",
            "422/422 [==============================] - 14s 33ms/step - loss: 0.3159 - accuracy: 0.9113 - val_loss: 0.2524 - val_accuracy: 0.9293\n",
            "Epoch 9/10\n",
            "422/422 [==============================] - 14s 33ms/step - loss: 0.3038 - accuracy: 0.9143 - val_loss: 0.2443 - val_accuracy: 0.9317\n",
            "Epoch 10/10\n",
            "422/422 [==============================] - 14s 34ms/step - loss: 0.2933 - accuracy: 0.9176 - val_loss: 0.2370 - val_accuracy: 0.9328\n",
            "Run time:  203.00387930870056\n"
          ]
        }
      ]
    },
    {
      "cell_type": "code",
      "source": [
        "test_loss, test_acc = nn_default.evaluate(X_test, y_test)\n",
        "print('Test Loss: %s\\nTest Accuracy: %s' % (test_loss,test_acc))"
      ],
      "metadata": {
        "id": "aA-b7tQVd9tG",
        "colab": {
          "base_uri": "https://localhost:8080/"
        },
        "outputId": "6e907964-99de-4491-e147-2042ee64df0e"
      },
      "execution_count": 54,
      "outputs": [
        {
          "output_type": "stream",
          "name": "stdout",
          "text": [
            "313/313 [==============================] - 2s 6ms/step - loss: 0.2739 - accuracy: 0.9239\n",
            "Test Loss: 0.27390193939208984\n",
            "Test Accuracy: 0.9239000082015991\n"
          ]
        }
      ]
    },
    {
      "cell_type": "markdown",
      "source": [
        " - <font color='#9900cc'> 6.2.4 optimizer = adam"
      ],
      "metadata": {
        "id": "mW1E4UcjdGnJ"
      }
    },
    {
      "cell_type": "code",
      "source": [
        "nn_default = models.Sequential() # Create Model\n",
        "nn_default.add(layers.Dense(784,activation = 'linear',input_shape=(None,784))) # Input Layer\n",
        "nn_default.add(layers.Dense(512,activation = 'relu')) # Hidden Layer #1\n",
        "nn_default.add(layers.Dense(512,activation = 'linear')) # Hidden Layer #2\n",
        "nn_default.add(layers.Dense(10,activation = 'softmax')) # Output Layer"
      ],
      "metadata": {
        "id": "s5DWzaFdd_Qa"
      },
      "execution_count": 55,
      "outputs": []
    },
    {
      "cell_type": "code",
      "source": [
        "nn_default.compile(optimizer = 'adam',\n",
        "              loss='categorical_crossentropy',\n",
        "              metrics=['accuracy'])"
      ],
      "metadata": {
        "id": "eVb0vGJIeAi2"
      },
      "execution_count": 56,
      "outputs": []
    },
    {
      "cell_type": "code",
      "source": [
        "start = time.time()\n",
        "history = nn_default.fit(X_train, y_train, batch_size=128, validation_split=0.1, epochs=10)\n",
        "end = time.time()\n",
        "print(\"Run time: \",end - start)"
      ],
      "metadata": {
        "id": "mtcCl0njeC5q",
        "colab": {
          "base_uri": "https://localhost:8080/"
        },
        "outputId": "18d43734-2b2d-4b91-8218-0adff5bcdedd"
      },
      "execution_count": 57,
      "outputs": [
        {
          "output_type": "stream",
          "name": "stdout",
          "text": [
            "Epoch 1/10\n",
            "422/422 [==============================] - 19s 41ms/step - loss: 0.2239 - accuracy: 0.9319 - val_loss: 0.1491 - val_accuracy: 0.9533\n",
            "Epoch 2/10\n",
            "422/422 [==============================] - 17s 39ms/step - loss: 0.1233 - accuracy: 0.9632 - val_loss: 0.1014 - val_accuracy: 0.9712\n",
            "Epoch 3/10\n",
            "422/422 [==============================] - 16s 38ms/step - loss: 0.0925 - accuracy: 0.9719 - val_loss: 0.1080 - val_accuracy: 0.9712\n",
            "Epoch 4/10\n",
            "422/422 [==============================] - 16s 37ms/step - loss: 0.0837 - accuracy: 0.9744 - val_loss: 0.1113 - val_accuracy: 0.9710\n",
            "Epoch 5/10\n",
            "422/422 [==============================] - 16s 37ms/step - loss: 0.0712 - accuracy: 0.9783 - val_loss: 0.1368 - val_accuracy: 0.9640\n",
            "Epoch 6/10\n",
            "422/422 [==============================] - 15s 36ms/step - loss: 0.0647 - accuracy: 0.9799 - val_loss: 0.1024 - val_accuracy: 0.9727\n",
            "Epoch 7/10\n",
            "422/422 [==============================] - 15s 36ms/step - loss: 0.0641 - accuracy: 0.9804 - val_loss: 0.0953 - val_accuracy: 0.9773\n",
            "Epoch 8/10\n",
            "422/422 [==============================] - 15s 35ms/step - loss: 0.0518 - accuracy: 0.9836 - val_loss: 0.1177 - val_accuracy: 0.9745\n",
            "Epoch 9/10\n",
            "422/422 [==============================] - 15s 35ms/step - loss: 0.0534 - accuracy: 0.9838 - val_loss: 0.1438 - val_accuracy: 0.9713\n",
            "Epoch 10/10\n",
            "422/422 [==============================] - 15s 36ms/step - loss: 0.0578 - accuracy: 0.9827 - val_loss: 0.1153 - val_accuracy: 0.9733\n",
            "Run time:  203.80285334587097\n"
          ]
        }
      ]
    },
    {
      "cell_type": "code",
      "source": [
        "test_loss, test_acc = nn_default.evaluate(X_test, y_test)\n",
        "print('Test Loss: %s\\nTest Accuracy: %s' % (test_loss,test_acc))"
      ],
      "metadata": {
        "id": "BxnZkaqqeDWC",
        "colab": {
          "base_uri": "https://localhost:8080/"
        },
        "outputId": "adfd6022-ccbc-4805-abcd-efbdca7693e4"
      },
      "execution_count": 58,
      "outputs": [
        {
          "output_type": "stream",
          "name": "stdout",
          "text": [
            "313/313 [==============================] - 2s 5ms/step - loss: 0.1249 - accuracy: 0.9698\n",
            "Test Loss: 0.12488923221826553\n",
            "Test Accuracy: 0.9697999954223633\n"
          ]
        }
      ]
    },
    {
      "cell_type": "markdown",
      "source": [
        "**Summary**\n",
        "\n",
        "จาก Optimizer ทั้ง 4 ตัว 'sgd', 'rmsprop', 'adagrad', 'adam'\n",
        "1. sgd ได้ Run time เป็น 137.26582503318787\n",
        "2. rmsprop ได้ Run time เป็น 147.90201449394226\n",
        "3. adagrad ได้ Run time เป็น 203.00387930870056\n",
        "4. adam ได้ Run time เป็น 203.80285334587097\n",
        "\n",
        "จะได้ลำดับความเร็วจากมากไปน้อย ดังนี้\n",
        "sgd > rmsprop > adagrad > adam"
      ],
      "metadata": {
        "id": "N1Hav7GwesMF"
      }
    },
    {
      "cell_type": "markdown",
      "source": [
        "**6.3. Change the structure of your model by adding more hidden layers with any number of nodes, and then observe how this affects your model.**"
      ],
      "metadata": {
        "id": "N13nh9reetm2"
      }
    },
    {
      "cell_type": "markdown",
      "source": [
        "<font color='#9900cc'> **เปรียบเทียบถ้าเพิ่ม hidden layer (1&2)**"
      ],
      "metadata": {
        "id": "oYgpFkkA5LPm"
      }
    },
    {
      "cell_type": "markdown",
      "source": [
        " - <font color='#9900cc'> 6.3.1 Adding 1 hidden layer, activation = relu with 512 neurons"
      ],
      "metadata": {
        "id": "BkQLHuq014V7"
      }
    },
    {
      "cell_type": "code",
      "source": [
        "nn = models.Sequential() # Create Model\n",
        "nn.add(layers.Dense(784,activation = 'linear',input_shape=(None,784))) # Input Layer\n",
        "nn.add(layers.Dense(512,activation = 'relu')) # Hidden Layer #1\n",
        "nn.add(layers.Dense(512,activation = 'relu')) # Hidden Layer #2\n",
        "nn.add(layers.Dense(512,activation = 'linear')) # Hidden Layer #3\n",
        "nn.add(layers.Dense(10,activation = 'softmax')) # Output Layer"
      ],
      "metadata": {
        "id": "KVnoXuR35g3U"
      },
      "execution_count": 59,
      "outputs": []
    },
    {
      "cell_type": "code",
      "source": [
        "nn.compile(optimizer = 'sgd',\n",
        "              loss='categorical_crossentropy',\n",
        "              metrics=['accuracy'])"
      ],
      "metadata": {
        "id": "Va1N3ASh5z2i"
      },
      "execution_count": 60,
      "outputs": []
    },
    {
      "cell_type": "code",
      "source": [
        "start = time.time()\n",
        "history = nn.fit(X_train, y_train, batch_size=128, validation_split=0.1, epochs=10)\n",
        "end = time.time()\n",
        "print(\"Run time: \",end - start)"
      ],
      "metadata": {
        "colab": {
          "base_uri": "https://localhost:8080/"
        },
        "id": "QSlZoid055-h",
        "outputId": "c8acf3f3-6360-4069-c25d-8504c4f4c848"
      },
      "execution_count": 61,
      "outputs": [
        {
          "output_type": "stream",
          "name": "stdout",
          "text": [
            "Epoch 1/10\n",
            "422/422 [==============================] - 16s 35ms/step - loss: 0.8350 - accuracy: 0.8007 - val_loss: 0.3342 - val_accuracy: 0.9145\n",
            "Epoch 2/10\n",
            "422/422 [==============================] - 14s 34ms/step - loss: 0.3492 - accuracy: 0.9016 - val_loss: 0.2529 - val_accuracy: 0.9288\n",
            "Epoch 3/10\n",
            "422/422 [==============================] - 15s 35ms/step - loss: 0.2903 - accuracy: 0.9175 - val_loss: 0.2184 - val_accuracy: 0.9377\n",
            "Epoch 4/10\n",
            "422/422 [==============================] - 16s 38ms/step - loss: 0.2544 - accuracy: 0.9279 - val_loss: 0.1934 - val_accuracy: 0.9470\n",
            "Epoch 5/10\n",
            "422/422 [==============================] - 20s 48ms/step - loss: 0.2268 - accuracy: 0.9344 - val_loss: 0.1778 - val_accuracy: 0.9518\n",
            "Epoch 6/10\n",
            "422/422 [==============================] - 18s 43ms/step - loss: 0.2045 - accuracy: 0.9422 - val_loss: 0.1578 - val_accuracy: 0.9573\n",
            "Epoch 7/10\n",
            "422/422 [==============================] - 15s 36ms/step - loss: 0.1860 - accuracy: 0.9467 - val_loss: 0.1496 - val_accuracy: 0.9602\n",
            "Epoch 8/10\n",
            "422/422 [==============================] - 15s 35ms/step - loss: 0.1707 - accuracy: 0.9517 - val_loss: 0.1400 - val_accuracy: 0.9618\n",
            "Epoch 9/10\n",
            "422/422 [==============================] - 15s 36ms/step - loss: 0.1572 - accuracy: 0.9546 - val_loss: 0.1277 - val_accuracy: 0.9658\n",
            "Epoch 10/10\n",
            "422/422 [==============================] - 15s 35ms/step - loss: 0.1459 - accuracy: 0.9584 - val_loss: 0.1214 - val_accuracy: 0.9677\n",
            "Run time:  203.39522123336792\n"
          ]
        }
      ]
    },
    {
      "cell_type": "code",
      "source": [
        "test_loss, test_acc = nn.evaluate(X_test, y_test)\n",
        "print('Test Loss: %s\\nTest Accuracy: %s' % (test_loss,test_acc))"
      ],
      "metadata": {
        "colab": {
          "base_uri": "https://localhost:8080/"
        },
        "id": "QcsTbf2E56VA",
        "outputId": "9b5eb324-f691-4e57-ae33-d82766a25841"
      },
      "execution_count": 62,
      "outputs": [
        {
          "output_type": "stream",
          "name": "stdout",
          "text": [
            "313/313 [==============================] - 3s 10ms/step - loss: 0.1397 - accuracy: 0.9573\n",
            "Test Loss: 0.13967406749725342\n",
            "Test Accuracy: 0.9573000073432922\n"
          ]
        }
      ]
    },
    {
      "cell_type": "markdown",
      "source": [
        " - <font color='#9900cc'> 6.3.2 Adding 2 hidden layer, activation = relu with 512 neurons"
      ],
      "metadata": {
        "id": "DY9ReYsD53ho"
      }
    },
    {
      "cell_type": "code",
      "source": [
        "nn = models.Sequential() # Create Model\n",
        "nn.add(layers.Dense(784,activation = 'linear',input_shape=(None,784))) # Input Layer\n",
        "nn.add(layers.Dense(512,activation = 'relu')) # Hidden Layer #1\n",
        "nn.add(layers.Dense(512,activation = 'relu')) # Hidden Layer #2\n",
        "nn.add(layers.Dense(512,activation = 'relu')) # Hidden Layer #3\n",
        "nn.add(layers.Dense(512,activation = 'linear')) # Hidden Layer #4\n",
        "nn.add(layers.Dense(10,activation = 'softmax')) # Output Layer"
      ],
      "metadata": {
        "id": "yuu9R3ae6omn"
      },
      "execution_count": 63,
      "outputs": []
    },
    {
      "cell_type": "code",
      "source": [
        "nn.compile(optimizer = 'sgd',\n",
        "              loss='categorical_crossentropy',\n",
        "              metrics=['accuracy'])"
      ],
      "metadata": {
        "id": "GaxDZrIZ6rJ9"
      },
      "execution_count": 64,
      "outputs": []
    },
    {
      "cell_type": "code",
      "source": [
        "start = time.time()\n",
        "history = nn.fit(X_train, y_train, batch_size=128, validation_split=0.1, epochs=10)\n",
        "end = time.time()\n",
        "print(\"Run time: \",end - start)"
      ],
      "metadata": {
        "colab": {
          "base_uri": "https://localhost:8080/"
        },
        "id": "10EcVxw66tLl",
        "outputId": "24e34d76-1042-41c8-8e24-3dd0cfb50168"
      },
      "execution_count": 65,
      "outputs": [
        {
          "output_type": "stream",
          "name": "stdout",
          "text": [
            "Epoch 1/10\n",
            "422/422 [==============================] - 18s 41ms/step - loss: 0.9064 - accuracy: 0.7840 - val_loss: 0.3285 - val_accuracy: 0.9130\n",
            "Epoch 2/10\n",
            "422/422 [==============================] - 17s 41ms/step - loss: 0.3327 - accuracy: 0.9041 - val_loss: 0.2434 - val_accuracy: 0.9307\n",
            "Epoch 3/10\n",
            "422/422 [==============================] - 17s 41ms/step - loss: 0.2690 - accuracy: 0.9217 - val_loss: 0.2038 - val_accuracy: 0.9423\n",
            "Epoch 4/10\n",
            "422/422 [==============================] - 18s 42ms/step - loss: 0.2315 - accuracy: 0.9323 - val_loss: 0.1744 - val_accuracy: 0.9520\n",
            "Epoch 5/10\n",
            "422/422 [==============================] - 19s 46ms/step - loss: 0.2032 - accuracy: 0.9410 - val_loss: 0.1593 - val_accuracy: 0.9560\n",
            "Epoch 6/10\n",
            "422/422 [==============================] - 17s 41ms/step - loss: 0.1810 - accuracy: 0.9471 - val_loss: 0.1478 - val_accuracy: 0.9600\n",
            "Epoch 7/10\n",
            "422/422 [==============================] - 17s 40ms/step - loss: 0.1636 - accuracy: 0.9530 - val_loss: 0.1357 - val_accuracy: 0.9608\n",
            "Epoch 8/10\n",
            "422/422 [==============================] - 17s 40ms/step - loss: 0.1487 - accuracy: 0.9571 - val_loss: 0.1281 - val_accuracy: 0.9638\n",
            "Epoch 9/10\n",
            "422/422 [==============================] - 17s 40ms/step - loss: 0.1364 - accuracy: 0.9604 - val_loss: 0.1157 - val_accuracy: 0.9672\n",
            "Epoch 10/10\n",
            "422/422 [==============================] - 17s 41ms/step - loss: 0.1250 - accuracy: 0.9638 - val_loss: 0.1111 - val_accuracy: 0.9690\n",
            "Run time:  175.5271680355072\n"
          ]
        }
      ]
    },
    {
      "cell_type": "code",
      "source": [
        "test_loss, test_acc = nn.evaluate(X_test, y_test)\n",
        "print('Test Loss: %s\\nTest Accuracy: %s' % (test_loss,test_acc))"
      ],
      "metadata": {
        "colab": {
          "base_uri": "https://localhost:8080/"
        },
        "id": "HpfowkV16ux7",
        "outputId": "34dedfaf-867e-41ab-c8c5-fd85d311cca8"
      },
      "execution_count": 66,
      "outputs": [
        {
          "output_type": "stream",
          "name": "stdout",
          "text": [
            "313/313 [==============================] - 4s 12ms/step - loss: 0.1257 - accuracy: 0.9620\n",
            "Test Loss: 0.1256873458623886\n",
            "Test Accuracy: 0.9620000123977661\n"
          ]
        }
      ]
    },
    {
      "cell_type": "markdown",
      "source": [
        "<font color='#9900cc'> **เปรียบเทียบถ้าเพิ่ม neurons ไม่เท่ากัน (200 & 20)**"
      ],
      "metadata": {
        "id": "LMZBHZa77fYP"
      }
    },
    {
      "cell_type": "markdown",
      "source": [
        " - <font color='#9900cc'> 6.3.3 Adding 1 hidden layer, activation = relu with 200 neurons"
      ],
      "metadata": {
        "id": "AuKgKp3n7paP"
      }
    },
    {
      "cell_type": "code",
      "source": [
        "nn = models.Sequential() # Create Model\n",
        "nn.add(layers.Dense(784,activation = 'linear',input_shape=(None,784))) # Input Layer\n",
        "nn.add(layers.Dense(512,activation = 'relu')) # Hidden Layer #1\n",
        "nn.add(layers.Dense(200,activation = 'relu')) # Hidden Layer #2\n",
        "nn.add(layers.Dense(512,activation = 'linear')) # Hidden Layer #3\n",
        "nn.add(layers.Dense(10,activation = 'softmax')) # Output Layer"
      ],
      "metadata": {
        "id": "cUfy6S_e7vVm"
      },
      "execution_count": 67,
      "outputs": []
    },
    {
      "cell_type": "code",
      "source": [
        "nn.compile(optimizer = 'sgd',\n",
        "              loss='categorical_crossentropy',\n",
        "              metrics=['accuracy'])"
      ],
      "metadata": {
        "id": "D02cHtOM7ymG"
      },
      "execution_count": 68,
      "outputs": []
    },
    {
      "cell_type": "code",
      "source": [
        "start = time.time()\n",
        "history = nn.fit(X_train, y_train, batch_size=128, validation_split=0.1, epochs=10)\n",
        "end = time.time()\n",
        "print(\"Run time: \",end - start)"
      ],
      "metadata": {
        "colab": {
          "base_uri": "https://localhost:8080/"
        },
        "id": "rEFdb8sE70Yb",
        "outputId": "0d03393f-5666-44fb-d0ba-42bcb1bbacee"
      },
      "execution_count": 69,
      "outputs": [
        {
          "output_type": "stream",
          "name": "stdout",
          "text": [
            "Epoch 1/10\n",
            "422/422 [==============================] - 13s 30ms/step - loss: 0.8887 - accuracy: 0.7827 - val_loss: 0.3385 - val_accuracy: 0.9127\n",
            "Epoch 2/10\n",
            "422/422 [==============================] - 21s 50ms/step - loss: 0.3529 - accuracy: 0.9018 - val_loss: 0.2520 - val_accuracy: 0.9283\n",
            "Epoch 3/10\n",
            "422/422 [==============================] - 12s 29ms/step - loss: 0.2904 - accuracy: 0.9168 - val_loss: 0.2177 - val_accuracy: 0.9390\n",
            "Epoch 4/10\n",
            "422/422 [==============================] - 11s 26ms/step - loss: 0.2550 - accuracy: 0.9275 - val_loss: 0.1958 - val_accuracy: 0.9455\n",
            "Epoch 5/10\n",
            "422/422 [==============================] - 12s 29ms/step - loss: 0.2274 - accuracy: 0.9352 - val_loss: 0.1778 - val_accuracy: 0.9527\n",
            "Epoch 6/10\n",
            "422/422 [==============================] - 13s 30ms/step - loss: 0.2056 - accuracy: 0.9405 - val_loss: 0.1589 - val_accuracy: 0.9588\n",
            "Epoch 7/10\n",
            "422/422 [==============================] - 13s 30ms/step - loss: 0.1870 - accuracy: 0.9460 - val_loss: 0.1488 - val_accuracy: 0.9608\n",
            "Epoch 8/10\n",
            "422/422 [==============================] - 12s 29ms/step - loss: 0.1712 - accuracy: 0.9510 - val_loss: 0.1401 - val_accuracy: 0.9638\n",
            "Epoch 9/10\n",
            "422/422 [==============================] - 11s 25ms/step - loss: 0.1578 - accuracy: 0.9549 - val_loss: 0.1300 - val_accuracy: 0.9643\n",
            "Epoch 10/10\n",
            "422/422 [==============================] - 12s 29ms/step - loss: 0.1460 - accuracy: 0.9582 - val_loss: 0.1243 - val_accuracy: 0.9650\n",
            "Run time:  143.03361225128174\n"
          ]
        }
      ]
    },
    {
      "cell_type": "code",
      "source": [
        "test_loss, test_acc = nn.evaluate(X_test, y_test)\n",
        "print('Test Loss: %s\\nTest Accuracy: %s' % (test_loss,test_acc))"
      ],
      "metadata": {
        "colab": {
          "base_uri": "https://localhost:8080/"
        },
        "id": "wLX8MqQ875dP",
        "outputId": "1951f49b-9481-46e5-b5de-c96ed0f8666e"
      },
      "execution_count": 70,
      "outputs": [
        {
          "output_type": "stream",
          "name": "stdout",
          "text": [
            "313/313 [==============================] - 2s 6ms/step - loss: 0.1430 - accuracy: 0.9560\n",
            "Test Loss: 0.1429959535598755\n",
            "Test Accuracy: 0.9559999704360962\n"
          ]
        }
      ]
    },
    {
      "cell_type": "markdown",
      "source": [
        " - <font color='#9900cc'> 6.3.4 Adding 1 hidden layer, activation = relu with 20 neurons"
      ],
      "metadata": {
        "id": "dHz6D4F88Kaz"
      }
    },
    {
      "cell_type": "code",
      "source": [
        "nn = models.Sequential() # Create Model\n",
        "nn.add(layers.Dense(784,activation = 'linear',input_shape=(None,784))) # Input Layer\n",
        "nn.add(layers.Dense(512,activation = 'relu')) # Hidden Layer #1\n",
        "nn.add(layers.Dense(20,activation = 'relu')) # Hidden Layer #2\n",
        "nn.add(layers.Dense(512,activation = 'linear')) # Hidden Layer #3\n",
        "nn.add(layers.Dense(10,activation = 'softmax')) # Output Layer"
      ],
      "metadata": {
        "id": "NzPvZO5Z8ONA"
      },
      "execution_count": 71,
      "outputs": []
    },
    {
      "cell_type": "code",
      "source": [
        "nn.compile(optimizer = 'sgd',\n",
        "              loss='categorical_crossentropy',\n",
        "              metrics=['accuracy'])"
      ],
      "metadata": {
        "id": "CrHPhnn18QHr"
      },
      "execution_count": 72,
      "outputs": []
    },
    {
      "cell_type": "code",
      "source": [
        "start = time.time()\n",
        "history = nn.fit(X_train, y_train, batch_size=128, validation_split=0.1, epochs=10)\n",
        "end = time.time()\n",
        "print(\"Run time: \",end - start)"
      ],
      "metadata": {
        "colab": {
          "base_uri": "https://localhost:8080/"
        },
        "id": "VEFAYemF8RDM",
        "outputId": "7f06141d-32a8-4c1a-cd43-25a2ba95eb21"
      },
      "execution_count": 73,
      "outputs": [
        {
          "output_type": "stream",
          "name": "stdout",
          "text": [
            "Epoch 1/10\n",
            "422/422 [==============================] - 12s 24ms/step - loss: 1.2086 - accuracy: 0.6692 - val_loss: 0.4211 - val_accuracy: 0.8947\n",
            "Epoch 2/10\n",
            "422/422 [==============================] - 11s 26ms/step - loss: 0.4080 - accuracy: 0.8879 - val_loss: 0.2915 - val_accuracy: 0.9188\n",
            "Epoch 3/10\n",
            "422/422 [==============================] - 15s 36ms/step - loss: 0.3260 - accuracy: 0.9084 - val_loss: 0.2489 - val_accuracy: 0.9262\n",
            "Epoch 4/10\n",
            "422/422 [==============================] - 10s 25ms/step - loss: 0.2843 - accuracy: 0.9184 - val_loss: 0.2159 - val_accuracy: 0.9395\n",
            "Epoch 5/10\n",
            "422/422 [==============================] - 9s 22ms/step - loss: 0.2544 - accuracy: 0.9272 - val_loss: 0.1967 - val_accuracy: 0.9463\n",
            "Epoch 6/10\n",
            "422/422 [==============================] - 11s 25ms/step - loss: 0.2312 - accuracy: 0.9335 - val_loss: 0.1790 - val_accuracy: 0.9527\n",
            "Epoch 7/10\n",
            "422/422 [==============================] - 10s 24ms/step - loss: 0.2115 - accuracy: 0.9397 - val_loss: 0.1641 - val_accuracy: 0.9550\n",
            "Epoch 8/10\n",
            "422/422 [==============================] - 9s 22ms/step - loss: 0.1948 - accuracy: 0.9442 - val_loss: 0.1668 - val_accuracy: 0.9537\n",
            "Epoch 9/10\n",
            "422/422 [==============================] - 12s 27ms/step - loss: 0.1799 - accuracy: 0.9480 - val_loss: 0.1411 - val_accuracy: 0.9613\n",
            "Epoch 10/10\n",
            "422/422 [==============================] - 11s 26ms/step - loss: 0.1670 - accuracy: 0.9523 - val_loss: 0.1385 - val_accuracy: 0.9627\n",
            "Run time:  144.16987681388855\n"
          ]
        }
      ]
    },
    {
      "cell_type": "code",
      "source": [
        "test_loss, test_acc = nn.evaluate(X_test, y_test)\n",
        "print('Test Loss: %s\\nTest Accuracy: %s' % (test_loss,test_acc))"
      ],
      "metadata": {
        "colab": {
          "base_uri": "https://localhost:8080/"
        },
        "id": "G33mnLGw8SPm",
        "outputId": "8e28d86b-6d03-4380-c0b3-82a55dc39bbe"
      },
      "execution_count": 74,
      "outputs": [
        {
          "output_type": "stream",
          "name": "stdout",
          "text": [
            "313/313 [==============================] - 2s 5ms/step - loss: 0.1618 - accuracy: 0.9499\n",
            "Test Loss: 0.1618432253599167\n",
            "Test Accuracy: 0.9498999714851379\n"
          ]
        }
      ]
    },
    {
      "cell_type": "markdown",
      "source": [
        "**Summary**"
      ],
      "metadata": {
        "id": "VAcZuk5uDMxM"
      }
    },
    {
      "cell_type": "markdown",
      "source": [
        "**Summary**\n",
        "\n",
        "**เปรียบเทียบถ้าเพิ่ม hidden layer**\n",
        "1. เพิ่ม 1 hidden layer\n",
        "- Run time:  203.39522123336792\n",
        "- Test Loss: 0.13967406749725342\n",
        "- Test Accuracy: 0.9573000073432922\n",
        "2. เพิ่ม 2 hidden layer\n",
        "- Run time: 175.5271680355072\n",
        "- Test Loss: 0.1256873458623886\n",
        "- Test Accuracy: 0.9620000123977661\n",
        "\n",
        "จะได้ว่าการเพิ่มจำนวน hidden layer ทำให้ Accuracy เพิ่มขึ้น\n",
        "\n",
        "**เปรียบเทียบถ้าเพิ่ม neurons ไม่เท่ากัน (200 & 20)**\n",
        "1. เพิ่ม neurons 200\n",
        "- Run time:  143.03361225128174\n",
        "- Test Loss: 0.1429959535598755\n",
        "- Test Accuracy: 0.9559999704360962\n",
        "2. เพิ่ม neurons 20\n",
        "- Run time:  144.16987681388855\n",
        "- Test Loss: 0.1618432253599167\n",
        "- Test Accuracy: 0.9498999714851379\n",
        "\n",
        "จะได้ว่าการเพิ่มจำนวน nuerons ทำให้ Accuracy เพิ่มขึ้น"
      ],
      "metadata": {
        "id": "k7Rzi3YlDPb3"
      }
    },
    {
      "cell_type": "markdown",
      "metadata": {
        "id": "Tn39uPiLE7kz"
      },
      "source": [
        "### 7. Discussion and Result\n",
        "Q: Write down your findings from the previous step.\n",
        "\n",
        "**ANSWER**"
      ]
    },
    {
      "cell_type": "markdown",
      "metadata": {
        "id": "kO1kTAr2E7kz"
      },
      "source": [
        "**6.1. Adjust the learning rate of your optimizer by increasing and decreasing the learning rate to see how it affects your model.**\n",
        "\n",
        "Default learning rate = 0.01\n",
        "- ได้ Test Loss: 0.16551458835601807\n",
        "- และได้ Test Accuracy: 0.9517999887466431\n",
        "\n",
        "Increasing learning rate is 0.1\n",
        "- ได้ Test Loss: 0.06379667669534683\n",
        "- และได้ Test Accuracy: 0.9800000190734863\n",
        "\n",
        "Decreasing learning rate is 0.005\n",
        "- ได้ Test Loss: 0.23289474844932556\n",
        "- และได้ Test Accuracy: 0.9340999722480774\n",
        "\n",
        "จะเห็นได้ว่าเมื่อเพิ่ม learning rate จะได้ Accuracy ที่เพิ่มขึ้นและ Loss ที่น้อยลง (เปรียบเทียบ Default และ Increasing)\n",
        "\n",
        "และในทางตรงกันข้ามถ้าลด learning rate จะได้ Accuracy ที่ลดลงและ Loss ที่เพิ่มขึ้น (เปรียบเทียบ Default และ Decreasing)\n",
        "\n",
        "**6.2. Experiment with different optimizers ('sgd', 'rmsprop', 'adagrad', 'adam', See https://keras.io/optimizers ) to see which one converges faster.**\n",
        "\n",
        "จาก Optimizer ทั้ง 4 ตัว 'sgd', 'rmsprop', 'adagrad', 'adam'\n",
        "1. sgd ได้ Run time เป็น 143.04429149627686\n",
        "2. rmsprop ได้ Run time เป็น 129.95464754104614\n",
        "3. adagrad ได้ Run time เป็น 129.3540563583374\n",
        "4. adam ได้ Run time เป็น 154.08738136291504\n",
        "\n",
        "จะได้ลำดับความเร็วจากมากไปน้อย ดังนี้\n",
        "adagrad > rmsprop > sgd > adam\n",
        "\n",
        "**6.3. Change the structure of your model by adding more hidden layers with any number of nodes, and then observe how this affects your model.**\n",
        "\n",
        "**Summary**\n",
        "\n",
        "**เปรียบเทียบถ้าเพิ่ม hidden layer**\n",
        "1. เพิ่ม 1 hidden layer\n",
        "- Run time:  203.39522123336792\n",
        "- Test Loss: 0.13967406749725342\n",
        "- Test Accuracy: 0.9573000073432922\n",
        "2. เพิ่ม 2 hidden layer\n",
        "- Run time: 175.5271680355072\n",
        "- Test Loss: 0.1256873458623886\n",
        "- Test Accuracy: 0.9620000123977661\n",
        "\n",
        "จะได้ว่าการเพิ่มจำนวน hidden layer ทำให้ Accuracy เพิ่มขึ้น\n",
        "\n",
        "**เปรียบเทียบถ้าเพิ่ม neurons ไม่เท่ากัน (200 & 20)**\n",
        "1. เพิ่ม neurons 200\n",
        "- Run time:  143.03361225128174\n",
        "- Test Loss: 0.1429959535598755\n",
        "- Test Accuracy: 0.9559999704360962\n",
        "2. เพิ่ม neurons 20\n",
        "- Run time:  144.16987681388855\n",
        "- Test Loss: 0.1618432253599167\n",
        "- Test Accuracy: 0.9498999714851379\n",
        "\n",
        "จะได้ว่าการเพิ่มจำนวน nuerons ทำให้ Accuracy เพิ่มขึ้น\n",
        "\n",
        "\n"
      ]
    }
  ],
  "metadata": {
    "colab": {
      "provenance": [],
      "include_colab_link": true
    },
    "kernelspec": {
      "display_name": "Python 3",
      "language": "python",
      "name": "python3"
    },
    "language_info": {
      "codemirror_mode": {
        "name": "ipython",
        "version": 3
      },
      "file_extension": ".py",
      "mimetype": "text/x-python",
      "name": "python",
      "nbconvert_exporter": "python",
      "pygments_lexer": "ipython3",
      "version": "3.8.5"
    }
  },
  "nbformat": 4,
  "nbformat_minor": 0
}